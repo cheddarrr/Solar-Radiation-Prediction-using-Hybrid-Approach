{
 "cells": [
  {
   "cell_type": "code",
   "execution_count": 1,
   "id": "15fdcf25",
   "metadata": {},
   "outputs": [],
   "source": [
    "import re\n",
    "import os\n",
    "import warnings\n",
    "import numpy as np\n",
    "import pandas as pd\n",
    "import matplotlib.pyplot as plt\n",
    "import seaborn as sns\n",
    "import xgboost as xgb\n",
    "from scipy import stats\n",
    "from collections import Counter\n",
    "from xgboost import XGBRegressor\n",
    "from sklearn.preprocessing import StandardScaler, MinMaxScaler, LabelEncoder\n",
    "from sklearn.ensemble import ExtraTreesClassifier\n",
    "from sklearn.feature_selection import SelectKBest\n",
    "from sklearn.feature_selection import chi2\n",
    "from sklearn.model_selection import train_test_split\n",
    "from tensorflow.keras.layers import Dense, Dropout, Activation\n",
    "from tensorflow.keras.optimizers import SGD, Adam\n",
    "from tensorflow.keras.models import Sequential\n",
    "from sklearn.metrics import mean_squared_error, r2_score, mean_absolute_error, accuracy_score"
   ]
  },
  {
   "cell_type": "code",
   "execution_count": 2,
   "id": "fab42be4",
   "metadata": {},
   "outputs": [],
   "source": [
    "data = pd.read_excel(\"/Users/nithya/Downloads/J comp/data/combined (1) (1).xlsx\")"
   ]
  },
  {
   "cell_type": "code",
   "execution_count": 3,
   "id": "95ff6dd4",
   "metadata": {},
   "outputs": [],
   "source": [
    "df = data.copy()"
   ]
  },
  {
   "cell_type": "code",
   "execution_count": 4,
   "id": "32e4063d",
   "metadata": {},
   "outputs": [],
   "source": [
    "month = []\n",
    "year = []\n",
    "day = []\n",
    "hour = []\n",
    "for y in range(0,len(df)):\n",
    "    x = df['time(UTC)'][y]\n",
    "    year.append(x[:4])\n",
    "    month.append(x[4:6])\n",
    "    day.append(x[6:8])\n",
    "    hour.append(x[9:11])\n",
    "df['Year'] = year\n",
    "df['Month'] = month\n",
    "df['Day'] = day\n",
    "df['Hour'] = hour"
   ]
  },
  {
   "cell_type": "code",
   "execution_count": 5,
   "id": "abbc3980",
   "metadata": {},
   "outputs": [],
   "source": [
    "df.drop(['time(UTC)', 'Gb(n)', 'Gd(h)', 'IR(h)'], axis = 1, inplace = True)"
   ]
  },
  {
   "cell_type": "code",
   "execution_count": 6,
   "id": "f64665ef",
   "metadata": {},
   "outputs": [
    {
     "data": {
      "text/html": [
       "<div>\n",
       "<style scoped>\n",
       "    .dataframe tbody tr th:only-of-type {\n",
       "        vertical-align: middle;\n",
       "    }\n",
       "\n",
       "    .dataframe tbody tr th {\n",
       "        vertical-align: top;\n",
       "    }\n",
       "\n",
       "    .dataframe thead th {\n",
       "        text-align: right;\n",
       "    }\n",
       "</style>\n",
       "<table border=\"1\" class=\"dataframe\">\n",
       "  <thead>\n",
       "    <tr style=\"text-align: right;\">\n",
       "      <th></th>\n",
       "      <th>Temp</th>\n",
       "      <th>Humidity</th>\n",
       "      <th>Radiation</th>\n",
       "      <th>WindSpeed</th>\n",
       "      <th>WindDirection</th>\n",
       "      <th>AirPressure</th>\n",
       "      <th>State</th>\n",
       "      <th>Year</th>\n",
       "      <th>Month</th>\n",
       "      <th>Day</th>\n",
       "      <th>Hour</th>\n",
       "    </tr>\n",
       "  </thead>\n",
       "  <tbody>\n",
       "    <tr>\n",
       "      <th>0</th>\n",
       "      <td>19.78</td>\n",
       "      <td>47.65</td>\n",
       "      <td>693.0</td>\n",
       "      <td>1.17</td>\n",
       "      <td>158</td>\n",
       "      <td>90845</td>\n",
       "      <td>arunachal pradesh</td>\n",
       "      <td>2015</td>\n",
       "      <td>01</td>\n",
       "      <td>21</td>\n",
       "      <td>07</td>\n",
       "    </tr>\n",
       "    <tr>\n",
       "      <th>1</th>\n",
       "      <td>18.66</td>\n",
       "      <td>43.25</td>\n",
       "      <td>716.0</td>\n",
       "      <td>1.10</td>\n",
       "      <td>6</td>\n",
       "      <td>90712</td>\n",
       "      <td>arunachal pradesh</td>\n",
       "      <td>2015</td>\n",
       "      <td>01</td>\n",
       "      <td>16</td>\n",
       "      <td>06</td>\n",
       "    </tr>\n",
       "    <tr>\n",
       "      <th>2</th>\n",
       "      <td>18.00</td>\n",
       "      <td>60.40</td>\n",
       "      <td>89.0</td>\n",
       "      <td>1.66</td>\n",
       "      <td>96</td>\n",
       "      <td>98809</td>\n",
       "      <td>punjab</td>\n",
       "      <td>2015</td>\n",
       "      <td>02</td>\n",
       "      <td>01</td>\n",
       "      <td>12</td>\n",
       "    </tr>\n",
       "    <tr>\n",
       "      <th>3</th>\n",
       "      <td>27.58</td>\n",
       "      <td>88.55</td>\n",
       "      <td>606.0</td>\n",
       "      <td>0.21</td>\n",
       "      <td>149</td>\n",
       "      <td>99530</td>\n",
       "      <td>tripura</td>\n",
       "      <td>2015</td>\n",
       "      <td>10</td>\n",
       "      <td>07</td>\n",
       "      <td>05</td>\n",
       "    </tr>\n",
       "    <tr>\n",
       "      <th>4</th>\n",
       "      <td>33.38</td>\n",
       "      <td>37.55</td>\n",
       "      <td>247.0</td>\n",
       "      <td>1.59</td>\n",
       "      <td>334</td>\n",
       "      <td>99158</td>\n",
       "      <td>uttar pradesh</td>\n",
       "      <td>2015</td>\n",
       "      <td>10</td>\n",
       "      <td>07</td>\n",
       "      <td>11</td>\n",
       "    </tr>\n",
       "  </tbody>\n",
       "</table>\n",
       "</div>"
      ],
      "text/plain": [
       "    Temp  Humidity  Radiation  WindSpeed  WindDirection  AirPressure  \\\n",
       "0  19.78     47.65      693.0       1.17            158        90845   \n",
       "1  18.66     43.25      716.0       1.10              6        90712   \n",
       "2  18.00     60.40       89.0       1.66             96        98809   \n",
       "3  27.58     88.55      606.0       0.21            149        99530   \n",
       "4  33.38     37.55      247.0       1.59            334        99158   \n",
       "\n",
       "               State  Year Month Day Hour  \n",
       "0  arunachal pradesh  2015    01  21   07  \n",
       "1  arunachal pradesh  2015    01  16   06  \n",
       "2             punjab  2015    02  01   12  \n",
       "3            tripura  2015    10  07   05  \n",
       "4      uttar pradesh  2015    10  07   11  "
      ]
     },
     "execution_count": 6,
     "metadata": {},
     "output_type": "execute_result"
    }
   ],
   "source": [
    "df.head()"
   ]
  },
  {
   "cell_type": "code",
   "execution_count": 7,
   "id": "f51cd96d",
   "metadata": {},
   "outputs": [],
   "source": [
    "input_features = df.drop('Radiation', axis = 1)\n",
    "target = df['Radiation']"
   ]
  },
  {
   "cell_type": "code",
   "execution_count": 8,
   "id": "5b3f1c36",
   "metadata": {},
   "outputs": [],
   "source": [
    "label_encoder = LabelEncoder()\n",
    "train_Y = label_encoder.fit_transform(target)\n",
    "input_features['State'] = label_encoder.fit_transform(input_features['State'])"
   ]
  },
  {
   "cell_type": "code",
   "execution_count": 9,
   "id": "3f722164",
   "metadata": {},
   "outputs": [],
   "source": [
    "target_cont = df['Radiation'].apply(lambda x : int(x*100))"
   ]
  },
  {
   "cell_type": "code",
   "execution_count": 10,
   "id": "98287d66",
   "metadata": {},
   "outputs": [],
   "source": [
    "scaled_input_features = MinMaxScaler().fit_transform(input_features)"
   ]
  },
  {
   "cell_type": "code",
   "execution_count": 11,
   "id": "cbaf253a",
   "metadata": {},
   "outputs": [],
   "source": [
    "xtrain, xtesta, ytrain, ytest = train_test_split(input_features, target, test_size=0.2, random_state=1)"
   ]
  },
  {
   "cell_type": "code",
   "execution_count": 12,
   "id": "88ee443b",
   "metadata": {},
   "outputs": [
    {
     "data": {
      "text/plain": [
       "((4388, 10), (1098, 10))"
      ]
     },
     "execution_count": 12,
     "metadata": {},
     "output_type": "execute_result"
    }
   ],
   "source": [
    "scaler = StandardScaler()\n",
    "xtrain = scaler.fit_transform(xtrain)\n",
    "xtest = scaler.transform(xtesta)\n",
    "xtrain.shape, xtest.shape"
   ]
  },
  {
   "cell_type": "code",
   "execution_count": 34,
   "id": "399efe2a",
   "metadata": {},
   "outputs": [
    {
     "name": "stdout",
     "output_type": "stream",
     "text": [
      "Model: \"sequential_3\"\n",
      "_________________________________________________________________\n",
      " Layer (type)                Output Shape              Param #   \n",
      "=================================================================\n",
      " dense_18 (Dense)            (None, 128)               1408      \n",
      "                                                                 \n",
      " dropout_5 (Dropout)         (None, 128)               0         \n",
      "                                                                 \n",
      " dense_19 (Dense)            (None, 64)                8256      \n",
      "                                                                 \n",
      " dense_20 (Dense)            (None, 32)                2080      \n",
      "                                                                 \n",
      " dense_21 (Dense)            (None, 32)                1056      \n",
      "                                                                 \n",
      " dense_22 (Dense)            (None, 32)                1056      \n",
      "                                                                 \n",
      " dense_23 (Dense)            (None, 1)                 33        \n",
      "                                                                 \n",
      "=================================================================\n",
      "Total params: 13,889\n",
      "Trainable params: 13,889\n",
      "Non-trainable params: 0\n",
      "_________________________________________________________________\n",
      "None\n"
     ]
    }
   ],
   "source": [
    "#Artificial Neural Network layers\n",
    "model = None\n",
    "model = Sequential()\n",
    "model.add(Dense(128, activation='relu', input_dim=10))\n",
    "model.add(Dropout(0.33))\n",
    "model.add(Dense(64, activation='relu'))\n",
    "model.add(Dense(32, activation='relu'))\n",
    "model.add(Dense(32, activation='relu'))\n",
    "model.add(Dense(32, activation='relu'))\n",
    "model.add(Dense(1, activation='linear'))\n",
    "model.compile(metrics='mse', loss='mae', optimizer=Adam(learning_rate=0.001))\n",
    "print(model.summary())"
   ]
  },
  {
   "cell_type": "code",
   "execution_count": 41,
   "id": "2c94ed4d",
   "metadata": {},
   "outputs": [
    {
     "name": "stdout",
     "output_type": "stream",
     "text": [
      "Epoch 1/30\n",
      "124/124 [==============================] - 1s 5ms/step - loss: 80.0429 - mse: 12736.9746 - val_loss: 92.1950 - val_mse: 13566.9277\n",
      "Epoch 2/30\n",
      "124/124 [==============================] - 1s 5ms/step - loss: 78.2991 - mse: 12354.2051 - val_loss: 85.9088 - val_mse: 12290.6348\n",
      "Epoch 3/30\n",
      "124/124 [==============================] - 1s 6ms/step - loss: 77.9697 - mse: 12543.8896 - val_loss: 95.0809 - val_mse: 13996.8389\n",
      "Epoch 4/30\n",
      "124/124 [==============================] - 1s 5ms/step - loss: 78.0753 - mse: 12305.0996 - val_loss: 87.4202 - val_mse: 12520.4814\n",
      "Epoch 5/30\n",
      "124/124 [==============================] - 1s 5ms/step - loss: 77.2897 - mse: 12253.0391 - val_loss: 97.0709 - val_mse: 14552.8740\n",
      "Epoch 6/30\n",
      "124/124 [==============================] - 1s 5ms/step - loss: 76.3241 - mse: 11851.5752 - val_loss: 92.0463 - val_mse: 13301.7412\n",
      "Epoch 7/30\n",
      "124/124 [==============================] - 1s 5ms/step - loss: 77.3041 - mse: 12212.1553 - val_loss: 88.2199 - val_mse: 12878.4570\n",
      "Epoch 8/30\n",
      "124/124 [==============================] - 1s 5ms/step - loss: 75.6374 - mse: 11866.8525 - val_loss: 75.8587 - val_mse: 10245.4014\n",
      "Epoch 9/30\n",
      "124/124 [==============================] - 1s 5ms/step - loss: 75.2281 - mse: 11734.6123 - val_loss: 93.8746 - val_mse: 13486.7930\n",
      "Epoch 10/30\n",
      "124/124 [==============================] - 1s 5ms/step - loss: 75.0310 - mse: 11832.3740 - val_loss: 89.7772 - val_mse: 12554.0518\n",
      "Epoch 11/30\n",
      "124/124 [==============================] - 1s 5ms/step - loss: 74.5875 - mse: 11532.6504 - val_loss: 88.3954 - val_mse: 12201.4609\n",
      "Epoch 12/30\n",
      "124/124 [==============================] - 1s 5ms/step - loss: 73.4394 - mse: 11249.8584 - val_loss: 91.4965 - val_mse: 13279.0186\n",
      "Epoch 13/30\n",
      "124/124 [==============================] - 1s 5ms/step - loss: 73.6649 - mse: 11617.3018 - val_loss: 101.9806 - val_mse: 15962.1885\n",
      "Epoch 14/30\n",
      "124/124 [==============================] - 1s 5ms/step - loss: 73.1298 - mse: 11515.5713 - val_loss: 73.7130 - val_mse: 10333.6084\n",
      "Epoch 15/30\n",
      "124/124 [==============================] - 1s 5ms/step - loss: 73.2076 - mse: 11269.3213 - val_loss: 94.0893 - val_mse: 13634.0303\n",
      "Epoch 16/30\n",
      "124/124 [==============================] - 1s 5ms/step - loss: 72.3451 - mse: 11294.0762 - val_loss: 104.8625 - val_mse: 16027.8701\n",
      "Epoch 17/30\n",
      "124/124 [==============================] - 1s 5ms/step - loss: 72.8728 - mse: 11369.5000 - val_loss: 104.3326 - val_mse: 15730.4023\n",
      "Epoch 18/30\n",
      "124/124 [==============================] - 1s 5ms/step - loss: 71.8820 - mse: 10984.8379 - val_loss: 87.7925 - val_mse: 12086.7070\n",
      "Epoch 19/30\n",
      "124/124 [==============================] - 1s 5ms/step - loss: 72.8490 - mse: 11193.8799 - val_loss: 97.4794 - val_mse: 14252.9688\n",
      "Epoch 20/30\n",
      "124/124 [==============================] - 1s 6ms/step - loss: 73.4982 - mse: 11305.8682 - val_loss: 75.8999 - val_mse: 10245.0049\n",
      "Epoch 21/30\n",
      "124/124 [==============================] - 1s 5ms/step - loss: 71.8741 - mse: 11019.5586 - val_loss: 92.4728 - val_mse: 12928.4717\n",
      "Epoch 22/30\n",
      "124/124 [==============================] - 1s 5ms/step - loss: 70.9925 - mse: 11013.9912 - val_loss: 92.3725 - val_mse: 12927.0459\n",
      "Epoch 23/30\n",
      "124/124 [==============================] - 1s 5ms/step - loss: 70.2900 - mse: 10827.7969 - val_loss: 106.0928 - val_mse: 16558.7656\n",
      "Epoch 24/30\n",
      "124/124 [==============================] - 1s 5ms/step - loss: 71.1585 - mse: 10960.4434 - val_loss: 87.7784 - val_mse: 11835.5918\n",
      "Epoch 25/30\n",
      "124/124 [==============================] - 1s 5ms/step - loss: 71.3146 - mse: 10779.8369 - val_loss: 104.8778 - val_mse: 15718.9805\n",
      "Epoch 26/30\n",
      "124/124 [==============================] - 1s 5ms/step - loss: 70.6319 - mse: 10886.7539 - val_loss: 87.0545 - val_mse: 12121.7314\n",
      "Epoch 27/30\n",
      "124/124 [==============================] - 1s 5ms/step - loss: 70.0291 - mse: 10883.7617 - val_loss: 99.3095 - val_mse: 14700.9609\n",
      "Epoch 28/30\n",
      "124/124 [==============================] - 1s 6ms/step - loss: 70.1914 - mse: 10769.6172 - val_loss: 88.7221 - val_mse: 12140.4238\n",
      "Epoch 29/30\n",
      "124/124 [==============================] - 1s 5ms/step - loss: 71.2953 - mse: 11126.8311 - val_loss: 103.0659 - val_mse: 15533.6309\n",
      "Epoch 30/30\n",
      "124/124 [==============================] - 1s 5ms/step - loss: 68.8165 - mse: 10376.7725 - val_loss: 93.8565 - val_mse: 13092.9287\n"
     ]
    }
   ],
   "source": [
    "history = model.fit(xtrain, ytrain, validation_split=0.1, epochs=30, batch_size=32)"
   ]
  },
  {
   "cell_type": "code",
   "execution_count": 42,
   "id": "ee9d4abf",
   "metadata": {},
   "outputs": [
    {
     "name": "stdout",
     "output_type": "stream",
     "text": [
      "35/35 [==============================] - 0s 3ms/step\n"
     ]
    }
   ],
   "source": [
    "y_pred = model.predict(xtest)"
   ]
  },
  {
   "cell_type": "code",
   "execution_count": 43,
   "id": "fd0c1ecc",
   "metadata": {},
   "outputs": [],
   "source": [
    "xy = pd.DataFrame(xtesta)"
   ]
  },
  {
   "cell_type": "code",
   "execution_count": 44,
   "id": "f3946357",
   "metadata": {},
   "outputs": [
    {
     "name": "stdout",
     "output_type": "stream",
     "text": [
      "35/35 [==============================] - 0s 4ms/step - loss: 95.1911 - mse: 14136.7490\n"
     ]
    }
   ],
   "source": [
    "scores = model.evaluate(xtest, ytest)\n",
    "mae = scores[0]\n",
    "mse = scores[1]"
   ]
  },
  {
   "cell_type": "code",
   "execution_count": 45,
   "id": "7322d389",
   "metadata": {},
   "outputs": [
    {
     "name": "stdout",
     "output_type": "stream",
     "text": [
      "Mean absolute error:  95.19105529785156\n",
      "Mean squared error:  14136.7490234375\n"
     ]
    }
   ],
   "source": [
    "print('Mean absolute error: ', mae)\n",
    "print('Mean squared error: ', mse)"
   ]
  },
  {
   "cell_type": "code",
   "execution_count": 46,
   "id": "7a2db33e",
   "metadata": {},
   "outputs": [
    {
     "data": {
      "text/plain": [
       "0.801418205985877"
      ]
     },
     "execution_count": 46,
     "metadata": {},
     "output_type": "execute_result"
    }
   ],
   "source": [
    "r2_score(ytest,y_pred) #R2 score for ANN"
   ]
  },
  {
   "cell_type": "code",
   "execution_count": 13,
   "id": "79a3a3b5",
   "metadata": {},
   "outputs": [
    {
     "data": {
      "text/html": [
       "<style>#sk-container-id-1 {color: black;background-color: white;}#sk-container-id-1 pre{padding: 0;}#sk-container-id-1 div.sk-toggleable {background-color: white;}#sk-container-id-1 label.sk-toggleable__label {cursor: pointer;display: block;width: 100%;margin-bottom: 0;padding: 0.3em;box-sizing: border-box;text-align: center;}#sk-container-id-1 label.sk-toggleable__label-arrow:before {content: \"▸\";float: left;margin-right: 0.25em;color: #696969;}#sk-container-id-1 label.sk-toggleable__label-arrow:hover:before {color: black;}#sk-container-id-1 div.sk-estimator:hover label.sk-toggleable__label-arrow:before {color: black;}#sk-container-id-1 div.sk-toggleable__content {max-height: 0;max-width: 0;overflow: hidden;text-align: left;background-color: #f0f8ff;}#sk-container-id-1 div.sk-toggleable__content pre {margin: 0.2em;color: black;border-radius: 0.25em;background-color: #f0f8ff;}#sk-container-id-1 input.sk-toggleable__control:checked~div.sk-toggleable__content {max-height: 200px;max-width: 100%;overflow: auto;}#sk-container-id-1 input.sk-toggleable__control:checked~label.sk-toggleable__label-arrow:before {content: \"▾\";}#sk-container-id-1 div.sk-estimator input.sk-toggleable__control:checked~label.sk-toggleable__label {background-color: #d4ebff;}#sk-container-id-1 div.sk-label input.sk-toggleable__control:checked~label.sk-toggleable__label {background-color: #d4ebff;}#sk-container-id-1 input.sk-hidden--visually {border: 0;clip: rect(1px 1px 1px 1px);clip: rect(1px, 1px, 1px, 1px);height: 1px;margin: -1px;overflow: hidden;padding: 0;position: absolute;width: 1px;}#sk-container-id-1 div.sk-estimator {font-family: monospace;background-color: #f0f8ff;border: 1px dotted black;border-radius: 0.25em;box-sizing: border-box;margin-bottom: 0.5em;}#sk-container-id-1 div.sk-estimator:hover {background-color: #d4ebff;}#sk-container-id-1 div.sk-parallel-item::after {content: \"\";width: 100%;border-bottom: 1px solid gray;flex-grow: 1;}#sk-container-id-1 div.sk-label:hover label.sk-toggleable__label {background-color: #d4ebff;}#sk-container-id-1 div.sk-serial::before {content: \"\";position: absolute;border-left: 1px solid gray;box-sizing: border-box;top: 0;bottom: 0;left: 50%;z-index: 0;}#sk-container-id-1 div.sk-serial {display: flex;flex-direction: column;align-items: center;background-color: white;padding-right: 0.2em;padding-left: 0.2em;position: relative;}#sk-container-id-1 div.sk-item {position: relative;z-index: 1;}#sk-container-id-1 div.sk-parallel {display: flex;align-items: stretch;justify-content: center;background-color: white;position: relative;}#sk-container-id-1 div.sk-item::before, #sk-container-id-1 div.sk-parallel-item::before {content: \"\";position: absolute;border-left: 1px solid gray;box-sizing: border-box;top: 0;bottom: 0;left: 50%;z-index: -1;}#sk-container-id-1 div.sk-parallel-item {display: flex;flex-direction: column;z-index: 1;position: relative;background-color: white;}#sk-container-id-1 div.sk-parallel-item:first-child::after {align-self: flex-end;width: 50%;}#sk-container-id-1 div.sk-parallel-item:last-child::after {align-self: flex-start;width: 50%;}#sk-container-id-1 div.sk-parallel-item:only-child::after {width: 0;}#sk-container-id-1 div.sk-dashed-wrapped {border: 1px dashed gray;margin: 0 0.4em 0.5em 0.4em;box-sizing: border-box;padding-bottom: 0.4em;background-color: white;}#sk-container-id-1 div.sk-label label {font-family: monospace;font-weight: bold;display: inline-block;line-height: 1.2em;}#sk-container-id-1 div.sk-label-container {text-align: center;}#sk-container-id-1 div.sk-container {/* jupyter's `normalize.less` sets `[hidden] { display: none; }` but bootstrap.min.css set `[hidden] { display: none !important; }` so we also need the `!important` here to be able to override the default hidden behavior on the sphinx rendered scikit-learn.org. See: https://github.com/scikit-learn/scikit-learn/issues/21755 */display: inline-block !important;position: relative;}#sk-container-id-1 div.sk-text-repr-fallback {display: none;}</style><div id=\"sk-container-id-1\" class=\"sk-top-container\"><div class=\"sk-text-repr-fallback\"><pre>RandomForestRegressor(n_estimators=1000, random_state=42)</pre><b>In a Jupyter environment, please rerun this cell to show the HTML representation or trust the notebook. <br />On GitHub, the HTML representation is unable to render, please try loading this page with nbviewer.org.</b></div><div class=\"sk-container\" hidden><div class=\"sk-item\"><div class=\"sk-estimator sk-toggleable\"><input class=\"sk-toggleable__control sk-hidden--visually\" id=\"sk-estimator-id-1\" type=\"checkbox\" checked><label for=\"sk-estimator-id-1\" class=\"sk-toggleable__label sk-toggleable__label-arrow\">RandomForestRegressor</label><div class=\"sk-toggleable__content\"><pre>RandomForestRegressor(n_estimators=1000, random_state=42)</pre></div></div></div></div></div>"
      ],
      "text/plain": [
       "RandomForestRegressor(n_estimators=1000, random_state=42)"
      ]
     },
     "execution_count": 13,
     "metadata": {},
     "output_type": "execute_result"
    }
   ],
   "source": [
    "from sklearn.ensemble import RandomForestRegressor\n",
    "rf = RandomForestRegressor(n_estimators = 1000, random_state = 42)\n",
    "rf.fit(xtrain, ytrain)"
   ]
  },
  {
   "cell_type": "code",
   "execution_count": 48,
   "id": "f10316f8",
   "metadata": {},
   "outputs": [],
   "source": [
    "ypredrf = rf.predict(xtest)"
   ]
  },
  {
   "cell_type": "code",
   "execution_count": 49,
   "id": "8be83a97",
   "metadata": {},
   "outputs": [
    {
     "data": {
      "text/plain": [
       "0.8797315772730355"
      ]
     },
     "execution_count": 49,
     "metadata": {},
     "output_type": "execute_result"
    }
   ],
   "source": [
    "r2_score(ytest,ypredrf)"
   ]
  },
  {
   "cell_type": "code",
   "execution_count": 50,
   "id": "147599cc",
   "metadata": {},
   "outputs": [],
   "source": [
    "def pred(val):\n",
    "    pred1 = model.predict(val)\n",
    "    pred2 = rf.predict(val)\n",
    "    ret = []\n",
    "    for i in range(len(pred1)):\n",
    "        ret.append((pred1[i] + pred2[i])/2)\n",
    "    return ret"
   ]
  },
  {
   "cell_type": "code",
   "execution_count": 51,
   "id": "81a6a1e3",
   "metadata": {},
   "outputs": [
    {
     "name": "stdout",
     "output_type": "stream",
     "text": [
      "35/35 [==============================] - 0s 2ms/step\n"
     ]
    }
   ],
   "source": [
    "y_predarf = pred(xtest)"
   ]
  },
  {
   "cell_type": "code",
   "execution_count": 52,
   "id": "6dee85d9",
   "metadata": {},
   "outputs": [
    {
     "data": {
      "text/plain": [
       "0.8622534109517492"
      ]
     },
     "execution_count": 52,
     "metadata": {},
     "output_type": "execute_result"
    }
   ],
   "source": [
    "r2_score(ytest,y_predarf)"
   ]
  },
  {
   "cell_type": "code",
   "execution_count": 14,
   "id": "a959ca83",
   "metadata": {},
   "outputs": [
    {
     "data": {
      "text/html": [
       "<style>#sk-container-id-2 {color: black;background-color: white;}#sk-container-id-2 pre{padding: 0;}#sk-container-id-2 div.sk-toggleable {background-color: white;}#sk-container-id-2 label.sk-toggleable__label {cursor: pointer;display: block;width: 100%;margin-bottom: 0;padding: 0.3em;box-sizing: border-box;text-align: center;}#sk-container-id-2 label.sk-toggleable__label-arrow:before {content: \"▸\";float: left;margin-right: 0.25em;color: #696969;}#sk-container-id-2 label.sk-toggleable__label-arrow:hover:before {color: black;}#sk-container-id-2 div.sk-estimator:hover label.sk-toggleable__label-arrow:before {color: black;}#sk-container-id-2 div.sk-toggleable__content {max-height: 0;max-width: 0;overflow: hidden;text-align: left;background-color: #f0f8ff;}#sk-container-id-2 div.sk-toggleable__content pre {margin: 0.2em;color: black;border-radius: 0.25em;background-color: #f0f8ff;}#sk-container-id-2 input.sk-toggleable__control:checked~div.sk-toggleable__content {max-height: 200px;max-width: 100%;overflow: auto;}#sk-container-id-2 input.sk-toggleable__control:checked~label.sk-toggleable__label-arrow:before {content: \"▾\";}#sk-container-id-2 div.sk-estimator input.sk-toggleable__control:checked~label.sk-toggleable__label {background-color: #d4ebff;}#sk-container-id-2 div.sk-label input.sk-toggleable__control:checked~label.sk-toggleable__label {background-color: #d4ebff;}#sk-container-id-2 input.sk-hidden--visually {border: 0;clip: rect(1px 1px 1px 1px);clip: rect(1px, 1px, 1px, 1px);height: 1px;margin: -1px;overflow: hidden;padding: 0;position: absolute;width: 1px;}#sk-container-id-2 div.sk-estimator {font-family: monospace;background-color: #f0f8ff;border: 1px dotted black;border-radius: 0.25em;box-sizing: border-box;margin-bottom: 0.5em;}#sk-container-id-2 div.sk-estimator:hover {background-color: #d4ebff;}#sk-container-id-2 div.sk-parallel-item::after {content: \"\";width: 100%;border-bottom: 1px solid gray;flex-grow: 1;}#sk-container-id-2 div.sk-label:hover label.sk-toggleable__label {background-color: #d4ebff;}#sk-container-id-2 div.sk-serial::before {content: \"\";position: absolute;border-left: 1px solid gray;box-sizing: border-box;top: 0;bottom: 0;left: 50%;z-index: 0;}#sk-container-id-2 div.sk-serial {display: flex;flex-direction: column;align-items: center;background-color: white;padding-right: 0.2em;padding-left: 0.2em;position: relative;}#sk-container-id-2 div.sk-item {position: relative;z-index: 1;}#sk-container-id-2 div.sk-parallel {display: flex;align-items: stretch;justify-content: center;background-color: white;position: relative;}#sk-container-id-2 div.sk-item::before, #sk-container-id-2 div.sk-parallel-item::before {content: \"\";position: absolute;border-left: 1px solid gray;box-sizing: border-box;top: 0;bottom: 0;left: 50%;z-index: -1;}#sk-container-id-2 div.sk-parallel-item {display: flex;flex-direction: column;z-index: 1;position: relative;background-color: white;}#sk-container-id-2 div.sk-parallel-item:first-child::after {align-self: flex-end;width: 50%;}#sk-container-id-2 div.sk-parallel-item:last-child::after {align-self: flex-start;width: 50%;}#sk-container-id-2 div.sk-parallel-item:only-child::after {width: 0;}#sk-container-id-2 div.sk-dashed-wrapped {border: 1px dashed gray;margin: 0 0.4em 0.5em 0.4em;box-sizing: border-box;padding-bottom: 0.4em;background-color: white;}#sk-container-id-2 div.sk-label label {font-family: monospace;font-weight: bold;display: inline-block;line-height: 1.2em;}#sk-container-id-2 div.sk-label-container {text-align: center;}#sk-container-id-2 div.sk-container {/* jupyter's `normalize.less` sets `[hidden] { display: none; }` but bootstrap.min.css set `[hidden] { display: none !important; }` so we also need the `!important` here to be able to override the default hidden behavior on the sphinx rendered scikit-learn.org. See: https://github.com/scikit-learn/scikit-learn/issues/21755 */display: inline-block !important;position: relative;}#sk-container-id-2 div.sk-text-repr-fallback {display: none;}</style><div id=\"sk-container-id-2\" class=\"sk-top-container\"><div class=\"sk-text-repr-fallback\"><pre>XGBRegressor(base_score=None, booster=None, callbacks=None,\n",
       "             colsample_bylevel=None, colsample_bynode=None,\n",
       "             colsample_bytree=None, early_stopping_rounds=None,\n",
       "             enable_categorical=False, eval_metric=None, feature_types=None,\n",
       "             gamma=None, gpu_id=None, grow_policy=None, importance_type=None,\n",
       "             interaction_constraints=None, learning_rate=0.1, max_bin=None,\n",
       "             max_cat_threshold=None, max_cat_to_onehot=None,\n",
       "             max_delta_step=None, max_depth=6, max_leaves=None,\n",
       "             min_child_weight=None, missing=nan, monotone_constraints=None,\n",
       "             n_estimators=100, n_jobs=None, num_parallel_tree=None,\n",
       "             predictor=None, random_state=None, ...)</pre><b>In a Jupyter environment, please rerun this cell to show the HTML representation or trust the notebook. <br />On GitHub, the HTML representation is unable to render, please try loading this page with nbviewer.org.</b></div><div class=\"sk-container\" hidden><div class=\"sk-item\"><div class=\"sk-estimator sk-toggleable\"><input class=\"sk-toggleable__control sk-hidden--visually\" id=\"sk-estimator-id-2\" type=\"checkbox\" checked><label for=\"sk-estimator-id-2\" class=\"sk-toggleable__label sk-toggleable__label-arrow\">XGBRegressor</label><div class=\"sk-toggleable__content\"><pre>XGBRegressor(base_score=None, booster=None, callbacks=None,\n",
       "             colsample_bylevel=None, colsample_bynode=None,\n",
       "             colsample_bytree=None, early_stopping_rounds=None,\n",
       "             enable_categorical=False, eval_metric=None, feature_types=None,\n",
       "             gamma=None, gpu_id=None, grow_policy=None, importance_type=None,\n",
       "             interaction_constraints=None, learning_rate=0.1, max_bin=None,\n",
       "             max_cat_threshold=None, max_cat_to_onehot=None,\n",
       "             max_delta_step=None, max_depth=6, max_leaves=None,\n",
       "             min_child_weight=None, missing=nan, monotone_constraints=None,\n",
       "             n_estimators=100, n_jobs=None, num_parallel_tree=None,\n",
       "             predictor=None, random_state=None, ...)</pre></div></div></div></div></div>"
      ],
      "text/plain": [
       "XGBRegressor(base_score=None, booster=None, callbacks=None,\n",
       "             colsample_bylevel=None, colsample_bynode=None,\n",
       "             colsample_bytree=None, early_stopping_rounds=None,\n",
       "             enable_categorical=False, eval_metric=None, feature_types=None,\n",
       "             gamma=None, gpu_id=None, grow_policy=None, importance_type=None,\n",
       "             interaction_constraints=None, learning_rate=0.1, max_bin=None,\n",
       "             max_cat_threshold=None, max_cat_to_onehot=None,\n",
       "             max_delta_step=None, max_depth=6, max_leaves=None,\n",
       "             min_child_weight=None, missing=nan, monotone_constraints=None,\n",
       "             n_estimators=100, n_jobs=None, num_parallel_tree=None,\n",
       "             predictor=None, random_state=None, ...)"
      ]
     },
     "execution_count": 14,
     "metadata": {},
     "output_type": "execute_result"
    }
   ],
   "source": [
    "params = {\n",
    "    'learning_rate': 0.1,\n",
    "    'max_depth': 6}\n",
    "xgbmodel = XGBRegressor(**params)\n",
    "xgbmodel.fit(xtrain, ytrain)"
   ]
  },
  {
   "cell_type": "code",
   "execution_count": 16,
   "id": "83a32ff2",
   "metadata": {},
   "outputs": [],
   "source": [
    "y_predxgb = xgbmodel.predict(xtest)"
   ]
  },
  {
   "cell_type": "code",
   "execution_count": 17,
   "id": "767f9d18",
   "metadata": {},
   "outputs": [],
   "source": [
    "#Hybrid XGB, RF\n",
    "def pred(val):\n",
    "    pred1 = xgbmodel.predict(val)\n",
    "    pred2 = rf.predict(val)\n",
    "    ret = []\n",
    "    for i in range(len(pred1)):\n",
    "        ret.append((pred1[i] + pred2[i])/2)\n",
    "    return ret"
   ]
  },
  {
   "cell_type": "code",
   "execution_count": 18,
   "id": "8fa8f956",
   "metadata": {},
   "outputs": [],
   "source": [
    "y_predxgbrf = pred(xtest)"
   ]
  },
  {
   "cell_type": "code",
   "execution_count": 20,
   "id": "7a20fa5e",
   "metadata": {},
   "outputs": [
    {
     "name": "stdout",
     "output_type": "stream",
     "text": [
      "0.8633238742592064\n"
     ]
    }
   ],
   "source": [
    "r2_score(ytest,y_predxgbrf)"
   ]
  },
  {
   "cell_type": "code",
   "execution_count": null,
   "id": "c3a27fbc",
   "metadata": {},
   "outputs": [],
   "source": []
  },
  {
   "cell_type": "code",
   "execution_count": null,
   "id": "05a701aa",
   "metadata": {},
   "outputs": [],
   "source": []
  },
  {
   "cell_type": "code",
   "execution_count": null,
   "id": "776673f4",
   "metadata": {},
   "outputs": [],
   "source": []
  },
  {
   "cell_type": "code",
   "execution_count": 53,
   "id": "1268cc41",
   "metadata": {},
   "outputs": [],
   "source": [
    "#sample predictions for ANN, RF\n",
    "df2 = pd.read_excel(\"/Users/nithya/Downloads/J comp/test data/state_test.xlsx\")"
   ]
  },
  {
   "cell_type": "code",
   "execution_count": 54,
   "id": "d885bcc0",
   "metadata": {},
   "outputs": [
    {
     "name": "stdout",
     "output_type": "stream",
     "text": [
      "1/1 [==============================] - 0s 76ms/step\n"
     ]
    }
   ],
   "source": [
    "df3 = df2.copy()\n",
    "df2 = scaler.transform(df2)\n",
    "y_predsample = pred(df2)"
   ]
  },
  {
   "cell_type": "code",
   "execution_count": 55,
   "id": "aafc2be9",
   "metadata": {},
   "outputs": [],
   "source": [
    "df3['State'] = label_encoder.inverse_transform(df3['State'])"
   ]
  },
  {
   "cell_type": "code",
   "execution_count": 56,
   "id": "f44c4e7e",
   "metadata": {},
   "outputs": [],
   "source": [
    "df3['Predicted'] = y_predsample"
   ]
  },
  {
   "cell_type": "code",
   "execution_count": 57,
   "id": "b17b0c00",
   "metadata": {},
   "outputs": [],
   "source": [
    "ytestsample = pd.read_excel(\"/Users/nithya/Downloads/J comp/test data/ytesta.xlsx\")"
   ]
  },
  {
   "cell_type": "code",
   "execution_count": 59,
   "id": "517c90cd",
   "metadata": {},
   "outputs": [
    {
     "data": {
      "text/plain": [
       "(28, 1)"
      ]
     },
     "execution_count": 59,
     "metadata": {},
     "output_type": "execute_result"
    }
   ],
   "source": [
    "ytestsample.to_numpy().shape"
   ]
  },
  {
   "cell_type": "code",
   "execution_count": 60,
   "id": "6c27b3a5",
   "metadata": {},
   "outputs": [],
   "source": [
    "df3['Actual'] = ytestsample"
   ]
  },
  {
   "cell_type": "code",
   "execution_count": 61,
   "id": "e8dde940",
   "metadata": {},
   "outputs": [
    {
     "data": {
      "text/html": [
       "<div>\n",
       "<style scoped>\n",
       "    .dataframe tbody tr th:only-of-type {\n",
       "        vertical-align: middle;\n",
       "    }\n",
       "\n",
       "    .dataframe tbody tr th {\n",
       "        vertical-align: top;\n",
       "    }\n",
       "\n",
       "    .dataframe thead th {\n",
       "        text-align: right;\n",
       "    }\n",
       "</style>\n",
       "<table border=\"1\" class=\"dataframe\">\n",
       "  <thead>\n",
       "    <tr style=\"text-align: right;\">\n",
       "      <th></th>\n",
       "      <th>Temp</th>\n",
       "      <th>Humidity</th>\n",
       "      <th>WindSpeed</th>\n",
       "      <th>WindDirection</th>\n",
       "      <th>AirPressure</th>\n",
       "      <th>State</th>\n",
       "      <th>Year</th>\n",
       "      <th>Month</th>\n",
       "      <th>Day</th>\n",
       "      <th>Hour</th>\n",
       "      <th>Predicted</th>\n",
       "      <th>Actual</th>\n",
       "    </tr>\n",
       "  </thead>\n",
       "  <tbody>\n",
       "    <tr>\n",
       "      <th>0</th>\n",
       "      <td>30.71</td>\n",
       "      <td>36.15</td>\n",
       "      <td>2.83</td>\n",
       "      <td>55</td>\n",
       "      <td>95423</td>\n",
       "      <td>andhra pradesh</td>\n",
       "      <td>2015</td>\n",
       "      <td>11</td>\n",
       "      <td>12</td>\n",
       "      <td>9</td>\n",
       "      <td>[577.562]</td>\n",
       "      <td>659.00</td>\n",
       "    </tr>\n",
       "    <tr>\n",
       "      <th>1</th>\n",
       "      <td>19.78</td>\n",
       "      <td>47.65</td>\n",
       "      <td>1.17</td>\n",
       "      <td>158</td>\n",
       "      <td>90845</td>\n",
       "      <td>arunachal pradesh</td>\n",
       "      <td>2015</td>\n",
       "      <td>1</td>\n",
       "      <td>21</td>\n",
       "      <td>7</td>\n",
       "      <td>[645.1732]</td>\n",
       "      <td>515.00</td>\n",
       "    </tr>\n",
       "    <tr>\n",
       "      <th>2</th>\n",
       "      <td>27.78</td>\n",
       "      <td>75.60</td>\n",
       "      <td>0.55</td>\n",
       "      <td>280</td>\n",
       "      <td>91791</td>\n",
       "      <td>assam</td>\n",
       "      <td>2015</td>\n",
       "      <td>5</td>\n",
       "      <td>11</td>\n",
       "      <td>6</td>\n",
       "      <td>[720.396]</td>\n",
       "      <td>395.00</td>\n",
       "    </tr>\n",
       "    <tr>\n",
       "      <th>3</th>\n",
       "      <td>22.59</td>\n",
       "      <td>51.20</td>\n",
       "      <td>0.48</td>\n",
       "      <td>260</td>\n",
       "      <td>100999</td>\n",
       "      <td>bihar</td>\n",
       "      <td>2015</td>\n",
       "      <td>1</td>\n",
       "      <td>6</td>\n",
       "      <td>11</td>\n",
       "      <td>[109.82243]</td>\n",
       "      <td>102.00</td>\n",
       "    </tr>\n",
       "    <tr>\n",
       "      <th>4</th>\n",
       "      <td>28.21</td>\n",
       "      <td>48.60</td>\n",
       "      <td>2.62</td>\n",
       "      <td>59</td>\n",
       "      <td>98252</td>\n",
       "      <td>chhattisgarh</td>\n",
       "      <td>2015</td>\n",
       "      <td>11</td>\n",
       "      <td>10</td>\n",
       "      <td>5</td>\n",
       "      <td>[650.75574]</td>\n",
       "      <td>843.00</td>\n",
       "    </tr>\n",
       "    <tr>\n",
       "      <th>5</th>\n",
       "      <td>10.79</td>\n",
       "      <td>92.50</td>\n",
       "      <td>1.59</td>\n",
       "      <td>305</td>\n",
       "      <td>98969</td>\n",
       "      <td>delhi</td>\n",
       "      <td>2015</td>\n",
       "      <td>3</td>\n",
       "      <td>12</td>\n",
       "      <td>2</td>\n",
       "      <td>[64.41555]</td>\n",
       "      <td>333.00</td>\n",
       "    </tr>\n",
       "    <tr>\n",
       "      <th>6</th>\n",
       "      <td>28.29</td>\n",
       "      <td>45.20</td>\n",
       "      <td>0.76</td>\n",
       "      <td>343</td>\n",
       "      <td>100251</td>\n",
       "      <td>goa</td>\n",
       "      <td>2015</td>\n",
       "      <td>1</td>\n",
       "      <td>8</td>\n",
       "      <td>5</td>\n",
       "      <td>[634.0586]</td>\n",
       "      <td>620.00</td>\n",
       "    </tr>\n",
       "    <tr>\n",
       "      <th>7</th>\n",
       "      <td>29.47</td>\n",
       "      <td>22.95</td>\n",
       "      <td>2.90</td>\n",
       "      <td>60</td>\n",
       "      <td>100685</td>\n",
       "      <td>gujarat</td>\n",
       "      <td>2015</td>\n",
       "      <td>2</td>\n",
       "      <td>4</td>\n",
       "      <td>9</td>\n",
       "      <td>[689.92346]</td>\n",
       "      <td>242.00</td>\n",
       "    </tr>\n",
       "    <tr>\n",
       "      <th>8</th>\n",
       "      <td>19.54</td>\n",
       "      <td>87.60</td>\n",
       "      <td>1.52</td>\n",
       "      <td>113</td>\n",
       "      <td>98861</td>\n",
       "      <td>haryana</td>\n",
       "      <td>2015</td>\n",
       "      <td>4</td>\n",
       "      <td>13</td>\n",
       "      <td>1</td>\n",
       "      <td>[26.866844]</td>\n",
       "      <td>16.00</td>\n",
       "    </tr>\n",
       "    <tr>\n",
       "      <th>9</th>\n",
       "      <td>16.18</td>\n",
       "      <td>43.00</td>\n",
       "      <td>1.10</td>\n",
       "      <td>252</td>\n",
       "      <td>78671</td>\n",
       "      <td>himachal pradesh</td>\n",
       "      <td>2015</td>\n",
       "      <td>5</td>\n",
       "      <td>10</td>\n",
       "      <td>9</td>\n",
       "      <td>[841.9659]</td>\n",
       "      <td>1081.00</td>\n",
       "    </tr>\n",
       "    <tr>\n",
       "      <th>10</th>\n",
       "      <td>29.63</td>\n",
       "      <td>66.80</td>\n",
       "      <td>2.76</td>\n",
       "      <td>282</td>\n",
       "      <td>95207</td>\n",
       "      <td>jharkhand</td>\n",
       "      <td>2015</td>\n",
       "      <td>8</td>\n",
       "      <td>7</td>\n",
       "      <td>7</td>\n",
       "      <td>[763.1584]</td>\n",
       "      <td>98.00</td>\n",
       "    </tr>\n",
       "    <tr>\n",
       "      <th>11</th>\n",
       "      <td>23.45</td>\n",
       "      <td>50.75</td>\n",
       "      <td>3.45</td>\n",
       "      <td>109</td>\n",
       "      <td>95366</td>\n",
       "      <td>karnataka</td>\n",
       "      <td>2016</td>\n",
       "      <td>1</td>\n",
       "      <td>8</td>\n",
       "      <td>4</td>\n",
       "      <td>[369.6151]</td>\n",
       "      <td>443.00</td>\n",
       "    </tr>\n",
       "    <tr>\n",
       "      <th>12</th>\n",
       "      <td>24.79</td>\n",
       "      <td>65.40</td>\n",
       "      <td>1.31</td>\n",
       "      <td>57</td>\n",
       "      <td>99657</td>\n",
       "      <td>kerala</td>\n",
       "      <td>2016</td>\n",
       "      <td>2</td>\n",
       "      <td>17</td>\n",
       "      <td>3</td>\n",
       "      <td>[234.7809]</td>\n",
       "      <td>240.00</td>\n",
       "    </tr>\n",
       "    <tr>\n",
       "      <th>13</th>\n",
       "      <td>33.69</td>\n",
       "      <td>41.70</td>\n",
       "      <td>1.79</td>\n",
       "      <td>251</td>\n",
       "      <td>96349</td>\n",
       "      <td>madhya pradesh</td>\n",
       "      <td>2011</td>\n",
       "      <td>6</td>\n",
       "      <td>4</td>\n",
       "      <td>4</td>\n",
       "      <td>[641.69165]</td>\n",
       "      <td>950.00</td>\n",
       "    </tr>\n",
       "    <tr>\n",
       "      <th>14</th>\n",
       "      <td>27.16</td>\n",
       "      <td>28.00</td>\n",
       "      <td>2.34</td>\n",
       "      <td>116</td>\n",
       "      <td>94484</td>\n",
       "      <td>maharashtra</td>\n",
       "      <td>2015</td>\n",
       "      <td>2</td>\n",
       "      <td>5</td>\n",
       "      <td>6</td>\n",
       "      <td>[713.97876]</td>\n",
       "      <td>831.00</td>\n",
       "    </tr>\n",
       "    <tr>\n",
       "      <th>15</th>\n",
       "      <td>22.02</td>\n",
       "      <td>81.90</td>\n",
       "      <td>0.62</td>\n",
       "      <td>97</td>\n",
       "      <td>92853</td>\n",
       "      <td>manipur</td>\n",
       "      <td>2015</td>\n",
       "      <td>10</td>\n",
       "      <td>16</td>\n",
       "      <td>3</td>\n",
       "      <td>[427.31314]</td>\n",
       "      <td>709.00</td>\n",
       "    </tr>\n",
       "    <tr>\n",
       "      <th>16</th>\n",
       "      <td>10.05</td>\n",
       "      <td>57.95</td>\n",
       "      <td>0.76</td>\n",
       "      <td>80</td>\n",
       "      <td>84779</td>\n",
       "      <td>meghalaya</td>\n",
       "      <td>2015</td>\n",
       "      <td>1</td>\n",
       "      <td>22</td>\n",
       "      <td>2</td>\n",
       "      <td>[141.28535]</td>\n",
       "      <td>170.00</td>\n",
       "    </tr>\n",
       "    <tr>\n",
       "      <th>17</th>\n",
       "      <td>25.38</td>\n",
       "      <td>63.00</td>\n",
       "      <td>0.90</td>\n",
       "      <td>274</td>\n",
       "      <td>92553</td>\n",
       "      <td>mizoram</td>\n",
       "      <td>2015</td>\n",
       "      <td>10</td>\n",
       "      <td>18</td>\n",
       "      <td>6</td>\n",
       "      <td>[771.0619]</td>\n",
       "      <td>859.00</td>\n",
       "    </tr>\n",
       "    <tr>\n",
       "      <th>18</th>\n",
       "      <td>22.53</td>\n",
       "      <td>77.80</td>\n",
       "      <td>1.72</td>\n",
       "      <td>241</td>\n",
       "      <td>81408</td>\n",
       "      <td>nagaland</td>\n",
       "      <td>2015</td>\n",
       "      <td>8</td>\n",
       "      <td>11</td>\n",
       "      <td>5</td>\n",
       "      <td>[632.51]</td>\n",
       "      <td>192.00</td>\n",
       "    </tr>\n",
       "    <tr>\n",
       "      <th>19</th>\n",
       "      <td>33.77</td>\n",
       "      <td>52.25</td>\n",
       "      <td>1.79</td>\n",
       "      <td>152</td>\n",
       "      <td>95655</td>\n",
       "      <td>orissa</td>\n",
       "      <td>2015</td>\n",
       "      <td>5</td>\n",
       "      <td>18</td>\n",
       "      <td>11</td>\n",
       "      <td>[293.77063]</td>\n",
       "      <td>366.00</td>\n",
       "    </tr>\n",
       "    <tr>\n",
       "      <th>20</th>\n",
       "      <td>18.00</td>\n",
       "      <td>60.40</td>\n",
       "      <td>1.66</td>\n",
       "      <td>96</td>\n",
       "      <td>98809</td>\n",
       "      <td>punjab</td>\n",
       "      <td>2015</td>\n",
       "      <td>2</td>\n",
       "      <td>1</td>\n",
       "      <td>12</td>\n",
       "      <td>[65.33623]</td>\n",
       "      <td>266.00</td>\n",
       "    </tr>\n",
       "    <tr>\n",
       "      <th>21</th>\n",
       "      <td>23.98</td>\n",
       "      <td>37.30</td>\n",
       "      <td>2.69</td>\n",
       "      <td>15</td>\n",
       "      <td>97650</td>\n",
       "      <td>rajasthan</td>\n",
       "      <td>2015</td>\n",
       "      <td>12</td>\n",
       "      <td>2</td>\n",
       "      <td>6</td>\n",
       "      <td>[639.4426]</td>\n",
       "      <td>543.00</td>\n",
       "    </tr>\n",
       "    <tr>\n",
       "      <th>22</th>\n",
       "      <td>15.25</td>\n",
       "      <td>90.30</td>\n",
       "      <td>0.76</td>\n",
       "      <td>178</td>\n",
       "      <td>80454</td>\n",
       "      <td>sikkim</td>\n",
       "      <td>2015</td>\n",
       "      <td>10</td>\n",
       "      <td>4</td>\n",
       "      <td>10</td>\n",
       "      <td>[201.45929]</td>\n",
       "      <td>212.95</td>\n",
       "    </tr>\n",
       "    <tr>\n",
       "      <th>23</th>\n",
       "      <td>20.37</td>\n",
       "      <td>88.25</td>\n",
       "      <td>4.41</td>\n",
       "      <td>247</td>\n",
       "      <td>99717</td>\n",
       "      <td>tamil nadu</td>\n",
       "      <td>2015</td>\n",
       "      <td>11</td>\n",
       "      <td>10</td>\n",
       "      <td>5</td>\n",
       "      <td>[495.05765]</td>\n",
       "      <td>577.00</td>\n",
       "    </tr>\n",
       "    <tr>\n",
       "      <th>24</th>\n",
       "      <td>28.35</td>\n",
       "      <td>73.75</td>\n",
       "      <td>0.83</td>\n",
       "      <td>298</td>\n",
       "      <td>99688</td>\n",
       "      <td>tripura</td>\n",
       "      <td>2015</td>\n",
       "      <td>10</td>\n",
       "      <td>18</td>\n",
       "      <td>10</td>\n",
       "      <td>[294.20764]</td>\n",
       "      <td>291.00</td>\n",
       "    </tr>\n",
       "    <tr>\n",
       "      <th>25</th>\n",
       "      <td>33.75</td>\n",
       "      <td>39.45</td>\n",
       "      <td>4.21</td>\n",
       "      <td>291</td>\n",
       "      <td>98872</td>\n",
       "      <td>uttar pradesh</td>\n",
       "      <td>2015</td>\n",
       "      <td>10</td>\n",
       "      <td>9</td>\n",
       "      <td>7</td>\n",
       "      <td>[750.41125]</td>\n",
       "      <td>845.00</td>\n",
       "    </tr>\n",
       "    <tr>\n",
       "      <th>26</th>\n",
       "      <td>18.64</td>\n",
       "      <td>47.35</td>\n",
       "      <td>1.45</td>\n",
       "      <td>232</td>\n",
       "      <td>96292</td>\n",
       "      <td>uttrakhand</td>\n",
       "      <td>2015</td>\n",
       "      <td>1</td>\n",
       "      <td>1</td>\n",
       "      <td>9</td>\n",
       "      <td>[435.8198]</td>\n",
       "      <td>324.00</td>\n",
       "    </tr>\n",
       "    <tr>\n",
       "      <th>27</th>\n",
       "      <td>28.32</td>\n",
       "      <td>22.75</td>\n",
       "      <td>2.41</td>\n",
       "      <td>355</td>\n",
       "      <td>101509</td>\n",
       "      <td>west bengal</td>\n",
       "      <td>2015</td>\n",
       "      <td>3</td>\n",
       "      <td>12</td>\n",
       "      <td>4</td>\n",
       "      <td>[632.991]</td>\n",
       "      <td>670.00</td>\n",
       "    </tr>\n",
       "  </tbody>\n",
       "</table>\n",
       "</div>"
      ],
      "text/plain": [
       "     Temp  Humidity  WindSpeed  WindDirection  AirPressure              State  \\\n",
       "0   30.71     36.15       2.83             55        95423     andhra pradesh   \n",
       "1   19.78     47.65       1.17            158        90845  arunachal pradesh   \n",
       "2   27.78     75.60       0.55            280        91791              assam   \n",
       "3   22.59     51.20       0.48            260       100999              bihar   \n",
       "4   28.21     48.60       2.62             59        98252       chhattisgarh   \n",
       "5   10.79     92.50       1.59            305        98969              delhi   \n",
       "6   28.29     45.20       0.76            343       100251                goa   \n",
       "7   29.47     22.95       2.90             60       100685            gujarat   \n",
       "8   19.54     87.60       1.52            113        98861            haryana   \n",
       "9   16.18     43.00       1.10            252        78671   himachal pradesh   \n",
       "10  29.63     66.80       2.76            282        95207          jharkhand   \n",
       "11  23.45     50.75       3.45            109        95366          karnataka   \n",
       "12  24.79     65.40       1.31             57        99657             kerala   \n",
       "13  33.69     41.70       1.79            251        96349     madhya pradesh   \n",
       "14  27.16     28.00       2.34            116        94484        maharashtra   \n",
       "15  22.02     81.90       0.62             97        92853            manipur   \n",
       "16  10.05     57.95       0.76             80        84779          meghalaya   \n",
       "17  25.38     63.00       0.90            274        92553            mizoram   \n",
       "18  22.53     77.80       1.72            241        81408           nagaland   \n",
       "19  33.77     52.25       1.79            152        95655             orissa   \n",
       "20  18.00     60.40       1.66             96        98809             punjab   \n",
       "21  23.98     37.30       2.69             15        97650          rajasthan   \n",
       "22  15.25     90.30       0.76            178        80454             sikkim   \n",
       "23  20.37     88.25       4.41            247        99717         tamil nadu   \n",
       "24  28.35     73.75       0.83            298        99688            tripura   \n",
       "25  33.75     39.45       4.21            291        98872      uttar pradesh   \n",
       "26  18.64     47.35       1.45            232        96292         uttrakhand   \n",
       "27  28.32     22.75       2.41            355       101509        west bengal   \n",
       "\n",
       "    Year  Month  Day  Hour    Predicted   Actual  \n",
       "0   2015     11   12     9    [577.562]   659.00  \n",
       "1   2015      1   21     7   [645.1732]   515.00  \n",
       "2   2015      5   11     6    [720.396]   395.00  \n",
       "3   2015      1    6    11  [109.82243]   102.00  \n",
       "4   2015     11   10     5  [650.75574]   843.00  \n",
       "5   2015      3   12     2   [64.41555]   333.00  \n",
       "6   2015      1    8     5   [634.0586]   620.00  \n",
       "7   2015      2    4     9  [689.92346]   242.00  \n",
       "8   2015      4   13     1  [26.866844]    16.00  \n",
       "9   2015      5   10     9   [841.9659]  1081.00  \n",
       "10  2015      8    7     7   [763.1584]    98.00  \n",
       "11  2016      1    8     4   [369.6151]   443.00  \n",
       "12  2016      2   17     3   [234.7809]   240.00  \n",
       "13  2011      6    4     4  [641.69165]   950.00  \n",
       "14  2015      2    5     6  [713.97876]   831.00  \n",
       "15  2015     10   16     3  [427.31314]   709.00  \n",
       "16  2015      1   22     2  [141.28535]   170.00  \n",
       "17  2015     10   18     6   [771.0619]   859.00  \n",
       "18  2015      8   11     5     [632.51]   192.00  \n",
       "19  2015      5   18    11  [293.77063]   366.00  \n",
       "20  2015      2    1    12   [65.33623]   266.00  \n",
       "21  2015     12    2     6   [639.4426]   543.00  \n",
       "22  2015     10    4    10  [201.45929]   212.95  \n",
       "23  2015     11   10     5  [495.05765]   577.00  \n",
       "24  2015     10   18    10  [294.20764]   291.00  \n",
       "25  2015     10    9     7  [750.41125]   845.00  \n",
       "26  2015      1    1     9   [435.8198]   324.00  \n",
       "27  2015      3   12     4    [632.991]   670.00  "
      ]
     },
     "execution_count": 61,
     "metadata": {},
     "output_type": "execute_result"
    }
   ],
   "source": [
    "df3"
   ]
  },
  {
   "cell_type": "code",
   "execution_count": 62,
   "id": "d2ce1b55",
   "metadata": {},
   "outputs": [
    {
     "data": {
      "text/plain": [
       "0.37906089769906426"
      ]
     },
     "execution_count": 62,
     "metadata": {},
     "output_type": "execute_result"
    }
   ],
   "source": [
    "r2_score(ytestsample,y_predsample)"
   ]
  }
 ],
 "metadata": {
  "kernelspec": {
   "display_name": "Python 3 (ipykernel)",
   "language": "python",
   "name": "python3"
  },
  "language_info": {
   "codemirror_mode": {
    "name": "ipython",
    "version": 3
   },
   "file_extension": ".py",
   "mimetype": "text/x-python",
   "name": "python",
   "nbconvert_exporter": "python",
   "pygments_lexer": "ipython3",
   "version": "3.10.9"
  }
 },
 "nbformat": 4,
 "nbformat_minor": 5
}
