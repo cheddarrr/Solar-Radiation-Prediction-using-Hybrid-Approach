{
 "cells": [
  {
   "cell_type": "code",
   "execution_count": 1,
   "metadata": {
    "id": "a-zEbL-aaYvF"
   },
   "outputs": [],
   "source": [
    "import re\n",
    "import os\n",
    "import warnings\n",
    "import numpy as np\n",
    "import pandas as pd\n",
    "import matplotlib.pyplot as plt\n",
    "import seaborn as sns\n",
    "import xgboost as xgb\n",
    "from scipy import stats\n",
    "from collections import Counter\n",
    "from xgboost import XGBRegressor\n",
    "from sklearn.preprocessing import StandardScaler, MinMaxScaler, LabelEncoder\n",
    "from sklearn.ensemble import ExtraTreesClassifier\n",
    "from sklearn.feature_selection import SelectKBest\n",
    "from sklearn.feature_selection import chi2\n",
    "from sklearn.model_selection import train_test_split\n",
    "from tensorflow.keras.layers import Dense, Dropout, Activation\n",
    "from tensorflow.keras.optimizers import SGD, Adam\n",
    "from tensorflow.keras.models import Sequential\n",
    "from sklearn.metrics import mean_squared_error, r2_score, mean_absolute_error, accuracy_score"
   ]
  },
  {
   "cell_type": "code",
   "execution_count": 3,
   "metadata": {
    "id": "LFerwn-oa2Zi"
   },
   "outputs": [],
   "source": [
    "data = pd.read_excel(\"/Users/nithya/Downloads/J comp/data/combined (1) (1).xlsx\")"
   ]
  },
  {
   "cell_type": "code",
   "execution_count": 4,
   "metadata": {
    "colab": {
     "base_uri": "https://localhost:8080/",
     "height": 248
    },
    "id": "a7c9A2NfbDzD",
    "outputId": "6197e8c1-3be3-45a8-a83c-893e80c4d6d1"
   },
   "outputs": [
    {
     "data": {
      "text/html": [
       "<div>\n",
       "<style scoped>\n",
       "    .dataframe tbody tr th:only-of-type {\n",
       "        vertical-align: middle;\n",
       "    }\n",
       "\n",
       "    .dataframe tbody tr th {\n",
       "        vertical-align: top;\n",
       "    }\n",
       "\n",
       "    .dataframe thead th {\n",
       "        text-align: right;\n",
       "    }\n",
       "</style>\n",
       "<table border=\"1\" class=\"dataframe\">\n",
       "  <thead>\n",
       "    <tr style=\"text-align: right;\">\n",
       "      <th></th>\n",
       "      <th>time(UTC)</th>\n",
       "      <th>Temp</th>\n",
       "      <th>Humidity</th>\n",
       "      <th>Radiation</th>\n",
       "      <th>Gb(n)</th>\n",
       "      <th>Gd(h)</th>\n",
       "      <th>IR(h)</th>\n",
       "      <th>WindSpeed</th>\n",
       "      <th>WindDirection</th>\n",
       "      <th>AirPressure</th>\n",
       "      <th>State</th>\n",
       "    </tr>\n",
       "  </thead>\n",
       "  <tbody>\n",
       "    <tr>\n",
       "      <th>0</th>\n",
       "      <td>20150121:0700</td>\n",
       "      <td>19.78</td>\n",
       "      <td>47.65</td>\n",
       "      <td>693.0</td>\n",
       "      <td>861.38</td>\n",
       "      <td>138.0</td>\n",
       "      <td>297.80</td>\n",
       "      <td>1.17</td>\n",
       "      <td>158</td>\n",
       "      <td>90845</td>\n",
       "      <td>arunachal pradesh</td>\n",
       "    </tr>\n",
       "    <tr>\n",
       "      <th>1</th>\n",
       "      <td>20150116:0600</td>\n",
       "      <td>18.66</td>\n",
       "      <td>43.25</td>\n",
       "      <td>716.0</td>\n",
       "      <td>901.63</td>\n",
       "      <td>125.0</td>\n",
       "      <td>317.80</td>\n",
       "      <td>1.10</td>\n",
       "      <td>6</td>\n",
       "      <td>90712</td>\n",
       "      <td>arunachal pradesh</td>\n",
       "    </tr>\n",
       "    <tr>\n",
       "      <th>2</th>\n",
       "      <td>20150201:1200</td>\n",
       "      <td>18.00</td>\n",
       "      <td>60.40</td>\n",
       "      <td>89.0</td>\n",
       "      <td>301.51</td>\n",
       "      <td>48.0</td>\n",
       "      <td>318.60</td>\n",
       "      <td>1.66</td>\n",
       "      <td>96</td>\n",
       "      <td>98809</td>\n",
       "      <td>punjab</td>\n",
       "    </tr>\n",
       "    <tr>\n",
       "      <th>3</th>\n",
       "      <td>20151007:0500</td>\n",
       "      <td>27.58</td>\n",
       "      <td>88.55</td>\n",
       "      <td>606.0</td>\n",
       "      <td>220.19</td>\n",
       "      <td>419.0</td>\n",
       "      <td>438.05</td>\n",
       "      <td>0.21</td>\n",
       "      <td>149</td>\n",
       "      <td>99530</td>\n",
       "      <td>tripura</td>\n",
       "    </tr>\n",
       "    <tr>\n",
       "      <th>4</th>\n",
       "      <td>20151007:1100</td>\n",
       "      <td>33.38</td>\n",
       "      <td>37.55</td>\n",
       "      <td>247.0</td>\n",
       "      <td>404.76</td>\n",
       "      <td>120.0</td>\n",
       "      <td>409.05</td>\n",
       "      <td>1.59</td>\n",
       "      <td>334</td>\n",
       "      <td>99158</td>\n",
       "      <td>uttar pradesh</td>\n",
       "    </tr>\n",
       "  </tbody>\n",
       "</table>\n",
       "</div>"
      ],
      "text/plain": [
       "       time(UTC)   Temp  Humidity  Radiation   Gb(n)  Gd(h)   IR(h)  \\\n",
       "0  20150121:0700  19.78     47.65      693.0  861.38  138.0  297.80   \n",
       "1  20150116:0600  18.66     43.25      716.0  901.63  125.0  317.80   \n",
       "2  20150201:1200  18.00     60.40       89.0  301.51   48.0  318.60   \n",
       "3  20151007:0500  27.58     88.55      606.0  220.19  419.0  438.05   \n",
       "4  20151007:1100  33.38     37.55      247.0  404.76  120.0  409.05   \n",
       "\n",
       "   WindSpeed  WindDirection  AirPressure              State  \n",
       "0       1.17            158        90845  arunachal pradesh  \n",
       "1       1.10              6        90712  arunachal pradesh  \n",
       "2       1.66             96        98809             punjab  \n",
       "3       0.21            149        99530            tripura  \n",
       "4       1.59            334        99158      uttar pradesh  "
      ]
     },
     "execution_count": 4,
     "metadata": {},
     "output_type": "execute_result"
    }
   ],
   "source": [
    "data.head()"
   ]
  },
  {
   "cell_type": "code",
   "execution_count": 5,
   "metadata": {
    "id": "jTq1qTpviTHB"
   },
   "outputs": [],
   "source": [
    "df = data.copy()"
   ]
  },
  {
   "cell_type": "code",
   "execution_count": 6,
   "metadata": {
    "id": "ynwKwFSgjll9"
   },
   "outputs": [],
   "source": [
    "month = []\n",
    "year = []\n",
    "day = []\n",
    "hour = []\n",
    "for y in range(0,len(df)):\n",
    "    x = df['time(UTC)'][y]\n",
    "    year.append(x[:4])\n",
    "    month.append(x[4:6])\n",
    "    day.append(x[6:8])\n",
    "    hour.append(x[9:11])\n",
    "df['Year'] = year\n",
    "df['Month'] = month\n",
    "df['Day'] = day\n",
    "df['Hour'] = hour"
   ]
  },
  {
   "cell_type": "code",
   "execution_count": 7,
   "metadata": {
    "colab": {
     "base_uri": "https://localhost:8080/",
     "height": 319
    },
    "id": "QR4rdE6rjp_t",
    "outputId": "bb84d741-1952-40c9-cc03-677f0b6b4fcb"
   },
   "outputs": [
    {
     "data": {
      "text/html": [
       "<div>\n",
       "<style scoped>\n",
       "    .dataframe tbody tr th:only-of-type {\n",
       "        vertical-align: middle;\n",
       "    }\n",
       "\n",
       "    .dataframe tbody tr th {\n",
       "        vertical-align: top;\n",
       "    }\n",
       "\n",
       "    .dataframe thead th {\n",
       "        text-align: right;\n",
       "    }\n",
       "</style>\n",
       "<table border=\"1\" class=\"dataframe\">\n",
       "  <thead>\n",
       "    <tr style=\"text-align: right;\">\n",
       "      <th></th>\n",
       "      <th>time(UTC)</th>\n",
       "      <th>Temp</th>\n",
       "      <th>Humidity</th>\n",
       "      <th>Radiation</th>\n",
       "      <th>Gb(n)</th>\n",
       "      <th>Gd(h)</th>\n",
       "      <th>IR(h)</th>\n",
       "      <th>WindSpeed</th>\n",
       "      <th>WindDirection</th>\n",
       "      <th>AirPressure</th>\n",
       "      <th>State</th>\n",
       "      <th>Year</th>\n",
       "      <th>Month</th>\n",
       "      <th>Day</th>\n",
       "      <th>Hour</th>\n",
       "    </tr>\n",
       "  </thead>\n",
       "  <tbody>\n",
       "    <tr>\n",
       "      <th>0</th>\n",
       "      <td>20150121:0700</td>\n",
       "      <td>19.78</td>\n",
       "      <td>47.65</td>\n",
       "      <td>693.0</td>\n",
       "      <td>861.38</td>\n",
       "      <td>138.0</td>\n",
       "      <td>297.80</td>\n",
       "      <td>1.17</td>\n",
       "      <td>158</td>\n",
       "      <td>90845</td>\n",
       "      <td>arunachal pradesh</td>\n",
       "      <td>2015</td>\n",
       "      <td>01</td>\n",
       "      <td>21</td>\n",
       "      <td>07</td>\n",
       "    </tr>\n",
       "    <tr>\n",
       "      <th>1</th>\n",
       "      <td>20150116:0600</td>\n",
       "      <td>18.66</td>\n",
       "      <td>43.25</td>\n",
       "      <td>716.0</td>\n",
       "      <td>901.63</td>\n",
       "      <td>125.0</td>\n",
       "      <td>317.80</td>\n",
       "      <td>1.10</td>\n",
       "      <td>6</td>\n",
       "      <td>90712</td>\n",
       "      <td>arunachal pradesh</td>\n",
       "      <td>2015</td>\n",
       "      <td>01</td>\n",
       "      <td>16</td>\n",
       "      <td>06</td>\n",
       "    </tr>\n",
       "    <tr>\n",
       "      <th>2</th>\n",
       "      <td>20150201:1200</td>\n",
       "      <td>18.00</td>\n",
       "      <td>60.40</td>\n",
       "      <td>89.0</td>\n",
       "      <td>301.51</td>\n",
       "      <td>48.0</td>\n",
       "      <td>318.60</td>\n",
       "      <td>1.66</td>\n",
       "      <td>96</td>\n",
       "      <td>98809</td>\n",
       "      <td>punjab</td>\n",
       "      <td>2015</td>\n",
       "      <td>02</td>\n",
       "      <td>01</td>\n",
       "      <td>12</td>\n",
       "    </tr>\n",
       "    <tr>\n",
       "      <th>3</th>\n",
       "      <td>20151007:0500</td>\n",
       "      <td>27.58</td>\n",
       "      <td>88.55</td>\n",
       "      <td>606.0</td>\n",
       "      <td>220.19</td>\n",
       "      <td>419.0</td>\n",
       "      <td>438.05</td>\n",
       "      <td>0.21</td>\n",
       "      <td>149</td>\n",
       "      <td>99530</td>\n",
       "      <td>tripura</td>\n",
       "      <td>2015</td>\n",
       "      <td>10</td>\n",
       "      <td>07</td>\n",
       "      <td>05</td>\n",
       "    </tr>\n",
       "    <tr>\n",
       "      <th>4</th>\n",
       "      <td>20151007:1100</td>\n",
       "      <td>33.38</td>\n",
       "      <td>37.55</td>\n",
       "      <td>247.0</td>\n",
       "      <td>404.76</td>\n",
       "      <td>120.0</td>\n",
       "      <td>409.05</td>\n",
       "      <td>1.59</td>\n",
       "      <td>334</td>\n",
       "      <td>99158</td>\n",
       "      <td>uttar pradesh</td>\n",
       "      <td>2015</td>\n",
       "      <td>10</td>\n",
       "      <td>07</td>\n",
       "      <td>11</td>\n",
       "    </tr>\n",
       "  </tbody>\n",
       "</table>\n",
       "</div>"
      ],
      "text/plain": [
       "       time(UTC)   Temp  Humidity  Radiation   Gb(n)  Gd(h)   IR(h)  \\\n",
       "0  20150121:0700  19.78     47.65      693.0  861.38  138.0  297.80   \n",
       "1  20150116:0600  18.66     43.25      716.0  901.63  125.0  317.80   \n",
       "2  20150201:1200  18.00     60.40       89.0  301.51   48.0  318.60   \n",
       "3  20151007:0500  27.58     88.55      606.0  220.19  419.0  438.05   \n",
       "4  20151007:1100  33.38     37.55      247.0  404.76  120.0  409.05   \n",
       "\n",
       "   WindSpeed  WindDirection  AirPressure              State  Year Month Day  \\\n",
       "0       1.17            158        90845  arunachal pradesh  2015    01  21   \n",
       "1       1.10              6        90712  arunachal pradesh  2015    01  16   \n",
       "2       1.66             96        98809             punjab  2015    02  01   \n",
       "3       0.21            149        99530            tripura  2015    10  07   \n",
       "4       1.59            334        99158      uttar pradesh  2015    10  07   \n",
       "\n",
       "  Hour  \n",
       "0   07  \n",
       "1   06  \n",
       "2   12  \n",
       "3   05  \n",
       "4   11  "
      ]
     },
     "execution_count": 7,
     "metadata": {},
     "output_type": "execute_result"
    }
   ],
   "source": [
    "df.head()"
   ]
  },
  {
   "cell_type": "code",
   "execution_count": 8,
   "metadata": {
    "id": "knddKN4Ujtm1"
   },
   "outputs": [],
   "source": [
    "df.drop(['time(UTC)', 'Gb(n)', 'Gd(h)', 'IR(h)'], axis = 1, inplace = True)"
   ]
  },
  {
   "cell_type": "code",
   "execution_count": 9,
   "metadata": {
    "colab": {
     "base_uri": "https://localhost:8080/",
     "height": 204
    },
    "id": "bzS8zWiXjyqm",
    "outputId": "22699c2a-88d5-47a9-d641-78e91767e203"
   },
   "outputs": [
    {
     "data": {
      "text/html": [
       "<div>\n",
       "<style scoped>\n",
       "    .dataframe tbody tr th:only-of-type {\n",
       "        vertical-align: middle;\n",
       "    }\n",
       "\n",
       "    .dataframe tbody tr th {\n",
       "        vertical-align: top;\n",
       "    }\n",
       "\n",
       "    .dataframe thead th {\n",
       "        text-align: right;\n",
       "    }\n",
       "</style>\n",
       "<table border=\"1\" class=\"dataframe\">\n",
       "  <thead>\n",
       "    <tr style=\"text-align: right;\">\n",
       "      <th></th>\n",
       "      <th>Temp</th>\n",
       "      <th>Humidity</th>\n",
       "      <th>Radiation</th>\n",
       "      <th>WindSpeed</th>\n",
       "      <th>WindDirection</th>\n",
       "      <th>AirPressure</th>\n",
       "      <th>State</th>\n",
       "      <th>Year</th>\n",
       "      <th>Month</th>\n",
       "      <th>Day</th>\n",
       "      <th>Hour</th>\n",
       "    </tr>\n",
       "  </thead>\n",
       "  <tbody>\n",
       "    <tr>\n",
       "      <th>0</th>\n",
       "      <td>19.78</td>\n",
       "      <td>47.65</td>\n",
       "      <td>693.0</td>\n",
       "      <td>1.17</td>\n",
       "      <td>158</td>\n",
       "      <td>90845</td>\n",
       "      <td>arunachal pradesh</td>\n",
       "      <td>2015</td>\n",
       "      <td>01</td>\n",
       "      <td>21</td>\n",
       "      <td>07</td>\n",
       "    </tr>\n",
       "    <tr>\n",
       "      <th>1</th>\n",
       "      <td>18.66</td>\n",
       "      <td>43.25</td>\n",
       "      <td>716.0</td>\n",
       "      <td>1.10</td>\n",
       "      <td>6</td>\n",
       "      <td>90712</td>\n",
       "      <td>arunachal pradesh</td>\n",
       "      <td>2015</td>\n",
       "      <td>01</td>\n",
       "      <td>16</td>\n",
       "      <td>06</td>\n",
       "    </tr>\n",
       "    <tr>\n",
       "      <th>2</th>\n",
       "      <td>18.00</td>\n",
       "      <td>60.40</td>\n",
       "      <td>89.0</td>\n",
       "      <td>1.66</td>\n",
       "      <td>96</td>\n",
       "      <td>98809</td>\n",
       "      <td>punjab</td>\n",
       "      <td>2015</td>\n",
       "      <td>02</td>\n",
       "      <td>01</td>\n",
       "      <td>12</td>\n",
       "    </tr>\n",
       "    <tr>\n",
       "      <th>3</th>\n",
       "      <td>27.58</td>\n",
       "      <td>88.55</td>\n",
       "      <td>606.0</td>\n",
       "      <td>0.21</td>\n",
       "      <td>149</td>\n",
       "      <td>99530</td>\n",
       "      <td>tripura</td>\n",
       "      <td>2015</td>\n",
       "      <td>10</td>\n",
       "      <td>07</td>\n",
       "      <td>05</td>\n",
       "    </tr>\n",
       "    <tr>\n",
       "      <th>4</th>\n",
       "      <td>33.38</td>\n",
       "      <td>37.55</td>\n",
       "      <td>247.0</td>\n",
       "      <td>1.59</td>\n",
       "      <td>334</td>\n",
       "      <td>99158</td>\n",
       "      <td>uttar pradesh</td>\n",
       "      <td>2015</td>\n",
       "      <td>10</td>\n",
       "      <td>07</td>\n",
       "      <td>11</td>\n",
       "    </tr>\n",
       "  </tbody>\n",
       "</table>\n",
       "</div>"
      ],
      "text/plain": [
       "    Temp  Humidity  Radiation  WindSpeed  WindDirection  AirPressure  \\\n",
       "0  19.78     47.65      693.0       1.17            158        90845   \n",
       "1  18.66     43.25      716.0       1.10              6        90712   \n",
       "2  18.00     60.40       89.0       1.66             96        98809   \n",
       "3  27.58     88.55      606.0       0.21            149        99530   \n",
       "4  33.38     37.55      247.0       1.59            334        99158   \n",
       "\n",
       "               State  Year Month Day Hour  \n",
       "0  arunachal pradesh  2015    01  21   07  \n",
       "1  arunachal pradesh  2015    01  16   06  \n",
       "2             punjab  2015    02  01   12  \n",
       "3            tripura  2015    10  07   05  \n",
       "4      uttar pradesh  2015    10  07   11  "
      ]
     },
     "execution_count": 9,
     "metadata": {},
     "output_type": "execute_result"
    }
   ],
   "source": [
    "df.head()"
   ]
  },
  {
   "cell_type": "code",
   "execution_count": 10,
   "metadata": {
    "id": "HhMCwjG0kCVb"
   },
   "outputs": [],
   "source": [
    "input_features = df.drop('Radiation', axis = 1)\n",
    "target = df['Radiation']"
   ]
  },
  {
   "cell_type": "code",
   "execution_count": 11,
   "metadata": {
    "colab": {
     "base_uri": "https://localhost:8080/",
     "height": 235
    },
    "id": "Lq2NHBI3lOmI",
    "outputId": "c176ad2a-f67f-4658-816f-78e4ca1270b9"
   },
   "outputs": [
    {
     "name": "stderr",
     "output_type": "stream",
     "text": [
      "/var/folders/nr/t0kkfjrx3jd5m946381_h7xc0000gq/T/ipykernel_8173/1134722465.py:1: FutureWarning: The default value of numeric_only in DataFrame.corr is deprecated. In a future version, it will default to False. Select only valid columns or specify the value of numeric_only to silence this warning.\n",
      "  df.corr()\n"
     ]
    },
    {
     "data": {
      "text/html": [
       "<div>\n",
       "<style scoped>\n",
       "    .dataframe tbody tr th:only-of-type {\n",
       "        vertical-align: middle;\n",
       "    }\n",
       "\n",
       "    .dataframe tbody tr th {\n",
       "        vertical-align: top;\n",
       "    }\n",
       "\n",
       "    .dataframe thead th {\n",
       "        text-align: right;\n",
       "    }\n",
       "</style>\n",
       "<table border=\"1\" class=\"dataframe\">\n",
       "  <thead>\n",
       "    <tr style=\"text-align: right;\">\n",
       "      <th></th>\n",
       "      <th>Temp</th>\n",
       "      <th>Humidity</th>\n",
       "      <th>Radiation</th>\n",
       "      <th>WindSpeed</th>\n",
       "      <th>WindDirection</th>\n",
       "      <th>AirPressure</th>\n",
       "    </tr>\n",
       "  </thead>\n",
       "  <tbody>\n",
       "    <tr>\n",
       "      <th>Temp</th>\n",
       "      <td>1.000000</td>\n",
       "      <td>-0.468821</td>\n",
       "      <td>0.281205</td>\n",
       "      <td>0.303412</td>\n",
       "      <td>0.028752</td>\n",
       "      <td>0.468078</td>\n",
       "    </tr>\n",
       "    <tr>\n",
       "      <th>Humidity</th>\n",
       "      <td>-0.468821</td>\n",
       "      <td>1.000000</td>\n",
       "      <td>-0.404068</td>\n",
       "      <td>-0.347295</td>\n",
       "      <td>-0.015822</td>\n",
       "      <td>-0.191620</td>\n",
       "    </tr>\n",
       "    <tr>\n",
       "      <th>Radiation</th>\n",
       "      <td>0.281205</td>\n",
       "      <td>-0.404068</td>\n",
       "      <td>1.000000</td>\n",
       "      <td>0.091232</td>\n",
       "      <td>0.055541</td>\n",
       "      <td>-0.061601</td>\n",
       "    </tr>\n",
       "    <tr>\n",
       "      <th>WindSpeed</th>\n",
       "      <td>0.303412</td>\n",
       "      <td>-0.347295</td>\n",
       "      <td>0.091232</td>\n",
       "      <td>1.000000</td>\n",
       "      <td>0.063282</td>\n",
       "      <td>0.322677</td>\n",
       "    </tr>\n",
       "    <tr>\n",
       "      <th>WindDirection</th>\n",
       "      <td>0.028752</td>\n",
       "      <td>-0.015822</td>\n",
       "      <td>0.055541</td>\n",
       "      <td>0.063282</td>\n",
       "      <td>1.000000</td>\n",
       "      <td>-0.070542</td>\n",
       "    </tr>\n",
       "    <tr>\n",
       "      <th>AirPressure</th>\n",
       "      <td>0.468078</td>\n",
       "      <td>-0.191620</td>\n",
       "      <td>-0.061601</td>\n",
       "      <td>0.322677</td>\n",
       "      <td>-0.070542</td>\n",
       "      <td>1.000000</td>\n",
       "    </tr>\n",
       "  </tbody>\n",
       "</table>\n",
       "</div>"
      ],
      "text/plain": [
       "                   Temp  Humidity  Radiation  WindSpeed  WindDirection  \\\n",
       "Temp           1.000000 -0.468821   0.281205   0.303412       0.028752   \n",
       "Humidity      -0.468821  1.000000  -0.404068  -0.347295      -0.015822   \n",
       "Radiation      0.281205 -0.404068   1.000000   0.091232       0.055541   \n",
       "WindSpeed      0.303412 -0.347295   0.091232   1.000000       0.063282   \n",
       "WindDirection  0.028752 -0.015822   0.055541   0.063282       1.000000   \n",
       "AirPressure    0.468078 -0.191620  -0.061601   0.322677      -0.070542   \n",
       "\n",
       "               AirPressure  \n",
       "Temp              0.468078  \n",
       "Humidity         -0.191620  \n",
       "Radiation        -0.061601  \n",
       "WindSpeed         0.322677  \n",
       "WindDirection    -0.070542  \n",
       "AirPressure       1.000000  "
      ]
     },
     "execution_count": 11,
     "metadata": {},
     "output_type": "execute_result"
    }
   ],
   "source": [
    "df.corr()"
   ]
  },
  {
   "cell_type": "code",
   "execution_count": 12,
   "metadata": {
    "colab": {
     "base_uri": "https://localhost:8080/"
    },
    "id": "iRbcWHmDmfyg",
    "outputId": "8a07ee39-3b95-47b7-aab7-0889cbe75dd0"
   },
   "outputs": [
    {
     "data": {
      "text/plain": [
       "0       693.00\n",
       "1       716.00\n",
       "2        89.00\n",
       "3       606.00\n",
       "4       247.00\n",
       "         ...  \n",
       "5481    864.00\n",
       "5482    500.00\n",
       "5483    176.00\n",
       "5484    681.00\n",
       "5485    723.35\n",
       "Name: Radiation, Length: 5486, dtype: float64"
      ]
     },
     "execution_count": 12,
     "metadata": {},
     "output_type": "execute_result"
    }
   ],
   "source": [
    "target"
   ]
  },
  {
   "cell_type": "code",
   "execution_count": 13,
   "metadata": {
    "id": "vTs5hl6Pmi2S"
   },
   "outputs": [],
   "source": [
    "label_encoder = LabelEncoder()\n",
    "train_Y = label_encoder.fit_transform(target)\n",
    "input_features['State'] = label_encoder.fit_transform(input_features['State'])"
   ]
  },
  {
   "cell_type": "code",
   "execution_count": 14,
   "metadata": {
    "colab": {
     "base_uri": "https://localhost:8080/",
     "height": 204
    },
    "id": "aik3LRwgmoIT",
    "outputId": "08149591-6a63-4319-f8c9-1a1a1b514f8b"
   },
   "outputs": [
    {
     "data": {
      "text/html": [
       "<div>\n",
       "<style scoped>\n",
       "    .dataframe tbody tr th:only-of-type {\n",
       "        vertical-align: middle;\n",
       "    }\n",
       "\n",
       "    .dataframe tbody tr th {\n",
       "        vertical-align: top;\n",
       "    }\n",
       "\n",
       "    .dataframe thead th {\n",
       "        text-align: right;\n",
       "    }\n",
       "</style>\n",
       "<table border=\"1\" class=\"dataframe\">\n",
       "  <thead>\n",
       "    <tr style=\"text-align: right;\">\n",
       "      <th></th>\n",
       "      <th>Temp</th>\n",
       "      <th>Humidity</th>\n",
       "      <th>WindSpeed</th>\n",
       "      <th>WindDirection</th>\n",
       "      <th>AirPressure</th>\n",
       "      <th>State</th>\n",
       "      <th>Year</th>\n",
       "      <th>Month</th>\n",
       "      <th>Day</th>\n",
       "      <th>Hour</th>\n",
       "    </tr>\n",
       "  </thead>\n",
       "  <tbody>\n",
       "    <tr>\n",
       "      <th>0</th>\n",
       "      <td>19.78</td>\n",
       "      <td>47.65</td>\n",
       "      <td>1.17</td>\n",
       "      <td>158</td>\n",
       "      <td>90845</td>\n",
       "      <td>1</td>\n",
       "      <td>2015</td>\n",
       "      <td>01</td>\n",
       "      <td>21</td>\n",
       "      <td>07</td>\n",
       "    </tr>\n",
       "    <tr>\n",
       "      <th>1</th>\n",
       "      <td>18.66</td>\n",
       "      <td>43.25</td>\n",
       "      <td>1.10</td>\n",
       "      <td>6</td>\n",
       "      <td>90712</td>\n",
       "      <td>1</td>\n",
       "      <td>2015</td>\n",
       "      <td>01</td>\n",
       "      <td>16</td>\n",
       "      <td>06</td>\n",
       "    </tr>\n",
       "    <tr>\n",
       "      <th>2</th>\n",
       "      <td>18.00</td>\n",
       "      <td>60.40</td>\n",
       "      <td>1.66</td>\n",
       "      <td>96</td>\n",
       "      <td>98809</td>\n",
       "      <td>20</td>\n",
       "      <td>2015</td>\n",
       "      <td>02</td>\n",
       "      <td>01</td>\n",
       "      <td>12</td>\n",
       "    </tr>\n",
       "    <tr>\n",
       "      <th>3</th>\n",
       "      <td>27.58</td>\n",
       "      <td>88.55</td>\n",
       "      <td>0.21</td>\n",
       "      <td>149</td>\n",
       "      <td>99530</td>\n",
       "      <td>24</td>\n",
       "      <td>2015</td>\n",
       "      <td>10</td>\n",
       "      <td>07</td>\n",
       "      <td>05</td>\n",
       "    </tr>\n",
       "    <tr>\n",
       "      <th>4</th>\n",
       "      <td>33.38</td>\n",
       "      <td>37.55</td>\n",
       "      <td>1.59</td>\n",
       "      <td>334</td>\n",
       "      <td>99158</td>\n",
       "      <td>25</td>\n",
       "      <td>2015</td>\n",
       "      <td>10</td>\n",
       "      <td>07</td>\n",
       "      <td>11</td>\n",
       "    </tr>\n",
       "  </tbody>\n",
       "</table>\n",
       "</div>"
      ],
      "text/plain": [
       "    Temp  Humidity  WindSpeed  WindDirection  AirPressure  State  Year Month  \\\n",
       "0  19.78     47.65       1.17            158        90845      1  2015    01   \n",
       "1  18.66     43.25       1.10              6        90712      1  2015    01   \n",
       "2  18.00     60.40       1.66             96        98809     20  2015    02   \n",
       "3  27.58     88.55       0.21            149        99530     24  2015    10   \n",
       "4  33.38     37.55       1.59            334        99158     25  2015    10   \n",
       "\n",
       "  Day Hour  \n",
       "0  21   07  \n",
       "1  16   06  \n",
       "2  01   12  \n",
       "3  07   05  \n",
       "4  07   11  "
      ]
     },
     "execution_count": 14,
     "metadata": {},
     "output_type": "execute_result"
    }
   ],
   "source": [
    "input_features.head()"
   ]
  },
  {
   "cell_type": "code",
   "execution_count": 15,
   "metadata": {
    "id": "Aw5dNG8PmtfO"
   },
   "outputs": [],
   "source": [
    "target_cont = df['Radiation'].apply(lambda x : int(x*100))"
   ]
  },
  {
   "cell_type": "code",
   "execution_count": 16,
   "metadata": {
    "id": "FIWLgvmhnKse"
   },
   "outputs": [],
   "source": [
    "scaled_input_features = MinMaxScaler().fit_transform(input_features)"
   ]
  },
  {
   "cell_type": "code",
   "execution_count": 17,
   "metadata": {
    "id": "DENrEVjYpGfT"
   },
   "outputs": [],
   "source": [
    "bestfeatures = SelectKBest(score_func = chi2, k = 10)\n",
    "fit = bestfeatures.fit(scaled_input_features, target_cont)"
   ]
  },
  {
   "cell_type": "code",
   "execution_count": 18,
   "metadata": {
    "id": "biR81bZRpIiF"
   },
   "outputs": [],
   "source": [
    "scores = pd.DataFrame(fit.scores_)\n",
    "column = pd.DataFrame(input_features.columns)"
   ]
  },
  {
   "cell_type": "code",
   "execution_count": 19,
   "metadata": {
    "id": "uYGctFX5pKy2"
   },
   "outputs": [],
   "source": [
    "featureScores = pd.concat([column, scores], axis=1)\n",
    "featureScores.columns = ['Features', 'feature_imp'] "
   ]
  },
  {
   "cell_type": "code",
   "execution_count": 20,
   "metadata": {
    "colab": {
     "base_uri": "https://localhost:8080/",
     "height": 359
    },
    "id": "5lw3j5InpNNd",
    "outputId": "9719a9a5-683b-4f9b-cecb-10d5c1cfc4dd"
   },
   "outputs": [
    {
     "data": {
      "text/html": [
       "<div>\n",
       "<style scoped>\n",
       "    .dataframe tbody tr th:only-of-type {\n",
       "        vertical-align: middle;\n",
       "    }\n",
       "\n",
       "    .dataframe tbody tr th {\n",
       "        vertical-align: top;\n",
       "    }\n",
       "\n",
       "    .dataframe thead th {\n",
       "        text-align: right;\n",
       "    }\n",
       "</style>\n",
       "<table border=\"1\" class=\"dataframe\">\n",
       "  <thead>\n",
       "    <tr style=\"text-align: right;\">\n",
       "      <th></th>\n",
       "      <th>Features</th>\n",
       "      <th>feature_imp</th>\n",
       "    </tr>\n",
       "  </thead>\n",
       "  <tbody>\n",
       "    <tr>\n",
       "      <th>7</th>\n",
       "      <td>Month</td>\n",
       "      <td>403.113785</td>\n",
       "    </tr>\n",
       "    <tr>\n",
       "      <th>1</th>\n",
       "      <td>Humidity</td>\n",
       "      <td>247.040854</td>\n",
       "    </tr>\n",
       "    <tr>\n",
       "      <th>5</th>\n",
       "      <td>State</td>\n",
       "      <td>230.674778</td>\n",
       "    </tr>\n",
       "    <tr>\n",
       "      <th>3</th>\n",
       "      <td>WindDirection</td>\n",
       "      <td>207.176344</td>\n",
       "    </tr>\n",
       "    <tr>\n",
       "      <th>8</th>\n",
       "      <td>Day</td>\n",
       "      <td>206.839842</td>\n",
       "    </tr>\n",
       "    <tr>\n",
       "      <th>9</th>\n",
       "      <td>Hour</td>\n",
       "      <td>170.757677</td>\n",
       "    </tr>\n",
       "    <tr>\n",
       "      <th>4</th>\n",
       "      <td>AirPressure</td>\n",
       "      <td>162.501022</td>\n",
       "    </tr>\n",
       "    <tr>\n",
       "      <th>2</th>\n",
       "      <td>WindSpeed</td>\n",
       "      <td>131.042749</td>\n",
       "    </tr>\n",
       "    <tr>\n",
       "      <th>0</th>\n",
       "      <td>Temp</td>\n",
       "      <td>126.064798</td>\n",
       "    </tr>\n",
       "    <tr>\n",
       "      <th>6</th>\n",
       "      <td>Year</td>\n",
       "      <td>43.701900</td>\n",
       "    </tr>\n",
       "  </tbody>\n",
       "</table>\n",
       "</div>"
      ],
      "text/plain": [
       "        Features  feature_imp\n",
       "7          Month   403.113785\n",
       "1       Humidity   247.040854\n",
       "5          State   230.674778\n",
       "3  WindDirection   207.176344\n",
       "8            Day   206.839842\n",
       "9           Hour   170.757677\n",
       "4    AirPressure   162.501022\n",
       "2      WindSpeed   131.042749\n",
       "0           Temp   126.064798\n",
       "6           Year    43.701900"
      ]
     },
     "execution_count": 20,
     "metadata": {},
     "output_type": "execute_result"
    }
   ],
   "source": [
    "featureScores.sort_values(by = 'feature_imp', ascending=False, inplace=True)\n",
    "featureScores"
   ]
  },
  {
   "cell_type": "code",
   "execution_count": 21,
   "metadata": {
    "colab": {
     "base_uri": "https://localhost:8080/",
     "height": 477
    },
    "id": "8qY9k6cMpREl",
    "outputId": "2b557120-f3b8-4445-c88b-4380e18f817b"
   },
   "outputs": [
    {
     "data": {
      "image/png": "[encoded data removed]",
      "text/plain": [
       "<Figure size 1200x400 with 1 Axes>"
      ]
     },
     "metadata": {},
     "output_type": "display_data"
    }
   ],
   "source": [
    "plt.figure(figsize = (12, 4))\n",
    "plt.bar(featureScores.Features, featureScores.feature_imp)\n",
    "plt.xticks(rotation = 50)\n",
    "plt.xlabel(\"Features\")\n",
    "plt.ylabel(\"Importance\")\n",
    "plt.title(\"Feature Importance using SelectKBest method\")\n",
    "plt.show()"
   ]
  },
  {
   "cell_type": "code",
   "execution_count": 22,
   "metadata": {
    "id": "40Cb2sMa11e-"
   },
   "outputs": [],
   "source": [
    "xtrain, xtesta, ytrain, ytest = train_test_split(input_features, target, test_size=0.2, random_state=1)"
   ]
  },
  {
   "cell_type": "code",
   "execution_count": 23,
   "metadata": {
    "colab": {
     "base_uri": "https://localhost:8080/"
    },
    "id": "26z2KBP_22Bs",
    "outputId": "ca2f83a5-dfed-4345-d811-355bc4c6eb9d"
   },
   "outputs": [
    {
     "data": {
      "text/plain": [
       "((4388, 10), (1098, 10))"
      ]
     },
     "execution_count": 23,
     "metadata": {},
     "output_type": "execute_result"
    }
   ],
   "source": [
    "scaler = StandardScaler()\n",
    "xtrain = scaler.fit_transform(xtrain)\n",
    "xtest = scaler.transform(xtesta)\n",
    "xtrain.shape, xtest.shape"
   ]
  },
  {
   "cell_type": "code",
   "execution_count": 36,
   "metadata": {},
   "outputs": [
    {
     "data": {
      "text/html": [
       "<style>#sk-container-id-3 {color: black;background-color: white;}#sk-container-id-3 pre{padding: 0;}#sk-container-id-3 div.sk-toggleable {background-color: white;}#sk-container-id-3 label.sk-toggleable__label {cursor: pointer;display: block;width: 100%;margin-bottom: 0;padding: 0.3em;box-sizing: border-box;text-align: center;}#sk-container-id-3 label.sk-toggleable__label-arrow:before {content: \"▸\";float: left;margin-right: 0.25em;color: #696969;}#sk-container-id-3 label.sk-toggleable__label-arrow:hover:before {color: black;}#sk-container-id-3 div.sk-estimator:hover label.sk-toggleable__label-arrow:before {color: black;}#sk-container-id-3 div.sk-toggleable__content {max-height: 0;max-width: 0;overflow: hidden;text-align: left;background-color: #f0f8ff;}#sk-container-id-3 div.sk-toggleable__content pre {margin: 0.2em;color: black;border-radius: 0.25em;background-color: #f0f8ff;}#sk-container-id-3 input.sk-toggleable__control:checked~div.sk-toggleable__content {max-height: 200px;max-width: 100%;overflow: auto;}#sk-container-id-3 input.sk-toggleable__control:checked~label.sk-toggleable__label-arrow:before {content: \"▾\";}#sk-container-id-3 div.sk-estimator input.sk-toggleable__control:checked~label.sk-toggleable__label {background-color: #d4ebff;}#sk-container-id-3 div.sk-label input.sk-toggleable__control:checked~label.sk-toggleable__label {background-color: #d4ebff;}#sk-container-id-3 input.sk-hidden--visually {border: 0;clip: rect(1px 1px 1px 1px);clip: rect(1px, 1px, 1px, 1px);height: 1px;margin: -1px;overflow: hidden;padding: 0;position: absolute;width: 1px;}#sk-container-id-3 div.sk-estimator {font-family: monospace;background-color: #f0f8ff;border: 1px dotted black;border-radius: 0.25em;box-sizing: border-box;margin-bottom: 0.5em;}#sk-container-id-3 div.sk-estimator:hover {background-color: #d4ebff;}#sk-container-id-3 div.sk-parallel-item::after {content: \"\";width: 100%;border-bottom: 1px solid gray;flex-grow: 1;}#sk-container-id-3 div.sk-label:hover label.sk-toggleable__label {background-color: #d4ebff;}#sk-container-id-3 div.sk-serial::before {content: \"\";position: absolute;border-left: 1px solid gray;box-sizing: border-box;top: 0;bottom: 0;left: 50%;z-index: 0;}#sk-container-id-3 div.sk-serial {display: flex;flex-direction: column;align-items: center;background-color: white;padding-right: 0.2em;padding-left: 0.2em;position: relative;}#sk-container-id-3 div.sk-item {position: relative;z-index: 1;}#sk-container-id-3 div.sk-parallel {display: flex;align-items: stretch;justify-content: center;background-color: white;position: relative;}#sk-container-id-3 div.sk-item::before, #sk-container-id-3 div.sk-parallel-item::before {content: \"\";position: absolute;border-left: 1px solid gray;box-sizing: border-box;top: 0;bottom: 0;left: 50%;z-index: -1;}#sk-container-id-3 div.sk-parallel-item {display: flex;flex-direction: column;z-index: 1;position: relative;background-color: white;}#sk-container-id-3 div.sk-parallel-item:first-child::after {align-self: flex-end;width: 50%;}#sk-container-id-3 div.sk-parallel-item:last-child::after {align-self: flex-start;width: 50%;}#sk-container-id-3 div.sk-parallel-item:only-child::after {width: 0;}#sk-container-id-3 div.sk-dashed-wrapped {border: 1px dashed gray;margin: 0 0.4em 0.5em 0.4em;box-sizing: border-box;padding-bottom: 0.4em;background-color: white;}#sk-container-id-3 div.sk-label label {font-family: monospace;font-weight: bold;display: inline-block;line-height: 1.2em;}#sk-container-id-3 div.sk-label-container {text-align: center;}#sk-container-id-3 div.sk-container {/* jupyter's `normalize.less` sets `[hidden] { display: none; }` but bootstrap.min.css set `[hidden] { display: none !important; }` so we also need the `!important` here to be able to override the default hidden behavior on the sphinx rendered scikit-learn.org. See: https://github.com/scikit-learn/scikit-learn/issues/21755 */display: inline-block !important;position: relative;}#sk-container-id-3 div.sk-text-repr-fallback {display: none;}</style><div id=\"sk-container-id-3\" class=\"sk-top-container\"><div class=\"sk-text-repr-fallback\"><pre>XGBRegressor(base_score=None, booster=None, callbacks=None,\n",
       "             colsample_bylevel=None, colsample_bynode=None,\n",
       "             colsample_bytree=None, early_stopping_rounds=None,\n",
       "             enable_categorical=False, eval_metric=None, feature_types=None,\n",
       "             gamma=None, gpu_id=None, grow_policy=None, importance_type=None,\n",
       "             interaction_constraints=None, learning_rate=0.1, max_bin=None,\n",
       "             max_cat_threshold=None, max_cat_to_onehot=None,\n",
       "             max_delta_step=None, max_depth=6, max_leaves=None,\n",
       "             min_child_weight=None, missing=nan, monotone_constraints=None,\n",
       "             n_estimators=100, n_jobs=None, num_parallel_tree=None,\n",
       "             predictor=None, random_state=None, ...)</pre><b>In a Jupyter environment, please rerun this cell to show the HTML representation or trust the notebook. <br />On GitHub, the HTML representation is unable to render, please try loading this page with nbviewer.org.</b></div><div class=\"sk-container\" hidden><div class=\"sk-item\"><div class=\"sk-estimator sk-toggleable\"><input class=\"sk-toggleable__control sk-hidden--visually\" id=\"sk-estimator-id-3\" type=\"checkbox\" checked><label for=\"sk-estimator-id-3\" class=\"sk-toggleable__label sk-toggleable__label-arrow\">XGBRegressor</label><div class=\"sk-toggleable__content\"><pre>XGBRegressor(base_score=None, booster=None, callbacks=None,\n",
       "             colsample_bylevel=None, colsample_bynode=None,\n",
       "             colsample_bytree=None, early_stopping_rounds=None,\n",
       "             enable_categorical=False, eval_metric=None, feature_types=None,\n",
       "             gamma=None, gpu_id=None, grow_policy=None, importance_type=None,\n",
       "             interaction_constraints=None, learning_rate=0.1, max_bin=None,\n",
       "             max_cat_threshold=None, max_cat_to_onehot=None,\n",
       "             max_delta_step=None, max_depth=6, max_leaves=None,\n",
       "             min_child_weight=None, missing=nan, monotone_constraints=None,\n",
       "             n_estimators=100, n_jobs=None, num_parallel_tree=None,\n",
       "             predictor=None, random_state=None, ...)</pre></div></div></div></div></div>"
      ],
      "text/plain": [
       "XGBRegressor(base_score=None, booster=None, callbacks=None,\n",
       "             colsample_bylevel=None, colsample_bynode=None,\n",
       "             colsample_bytree=None, early_stopping_rounds=None,\n",
       "             enable_categorical=False, eval_metric=None, feature_types=None,\n",
       "             gamma=None, gpu_id=None, grow_policy=None, importance_type=None,\n",
       "             interaction_constraints=None, learning_rate=0.1, max_bin=None,\n",
       "             max_cat_threshold=None, max_cat_to_onehot=None,\n",
       "             max_delta_step=None, max_depth=6, max_leaves=None,\n",
       "             min_child_weight=None, missing=nan, monotone_constraints=None,\n",
       "             n_estimators=100, n_jobs=None, num_parallel_tree=None,\n",
       "             predictor=None, random_state=None, ...)"
      ]
     },
     "execution_count": 36,
     "metadata": {},
     "output_type": "execute_result"
    }
   ],
   "source": [
    "params = {\n",
    "    'learning_rate': 0.1,\n",
    "    'max_depth': 6}\n",
    "xgbmodel = XGBRegressor(**params)\n",
    "xgbmodel.fit(xtrain, ytrain)"
   ]
  },
  {
   "cell_type": "code",
   "execution_count": 29,
   "metadata": {},
   "outputs": [],
   "source": [
    "y_predxgb = xgbmodel.predict(xtest)"
   ]
  },
  {
   "cell_type": "code",
   "execution_count": 34,
   "metadata": {},
   "outputs": [
    {
     "name": "stdout",
     "output_type": "stream",
     "text": [
      "0.7982365\n"
     ]
    }
   ],
   "source": [
    "rmse = np.sqrt(mean_squared_error(ytest, y_predxgb))\n",
    "r2 = r2_score(ytest, y_predxgb)\n",
    "r2"
   ]
  },
  {
   "cell_type": "code",
   "execution_count": 35,
   "metadata": {
    "colab": {
     "base_uri": "https://localhost:8080/"
    },
    "id": "yP7FLu9W24-5",
    "outputId": "8e575dea-5ae9-42a0-b223-71e32a5a77d6"
   },
   "outputs": [
    {
     "name": "stdout",
     "output_type": "stream",
     "text": [
      "Metal device set to: Apple M2\n",
      "Model: \"sequential\"\n",
      "_________________________________________________________________\n",
      " Layer (type)                Output Shape              Param #   \n",
      "=================================================================\n",
      " dense (Dense)               (None, 128)               1408      \n",
      "                                                                 \n",
      " dropout (Dropout)           (None, 128)               0         \n",
      "                                                                 \n",
      " dense_1 (Dense)             (None, 64)                8256      \n",
      "                                                                 \n",
      " dropout_1 (Dropout)         (None, 64)                0         \n",
      "                                                                 \n",
      " dense_2 (Dense)             (None, 32)                2080      \n",
      "                                                                 \n",
      " dropout_2 (Dropout)         (None, 32)                0         \n",
      "                                                                 \n",
      " dense_3 (Dense)             (None, 32)                1056      \n",
      "                                                                 \n",
      " dropout_3 (Dropout)         (None, 32)                0         \n",
      "                                                                 \n",
      " dense_4 (Dense)             (None, 32)                1056      \n",
      "                                                                 \n",
      " dropout_4 (Dropout)         (None, 32)                0         \n",
      "                                                                 \n",
      " dense_5 (Dense)             (None, 1)                 33        \n",
      "                                                                 \n",
      "=================================================================\n",
      "Total params: 13,889\n",
      "Trainable params: 13,889\n",
      "Non-trainable params: 0\n",
      "_________________________________________________________________\n",
      "None\n"
     ]
    }
   ],
   "source": [
    "#Artificial Neural Network layers\n",
    "model = None\n",
    "model = Sequential()\n",
    "model.add(Dense(128, activation='relu', input_dim=10))\n",
    "model.add(Dropout(0.33))\n",
    "model.add(Dense(64, activation='relu'))\n",
    "model.add(Dropout(0.33))\n",
    "model.add(Dense(32, activation='relu'))\n",
    "model.add(Dropout(0.33))\n",
    "model.add(Dense(32, activation='relu'))\n",
    "model.add(Dropout(0.33))\n",
    "model.add(Dense(32, activation='relu'))\n",
    "model.add(Dropout(0.33))\n",
    "model.add(Dense(1, activation='linear'))\n",
    "model.compile(metrics='mse', loss='mae', optimizer=Adam(learning_rate=0.001))\n",
    "print(model.summary())"
   ]
  },
  {
   "cell_type": "code",
   "execution_count": 27,
   "metadata": {
    "colab": {
     "base_uri": "https://localhost:8080/"
    },
    "id": "8m2T9_kB3El7",
    "outputId": "d1fb3f7d-3641-4c02-b18e-a2cd35c4945c"
   },
   "outputs": [
    {
     "name": "stdout",
     "output_type": "stream",
     "text": [
      "Epoch 1/30\n"
     ]
    },
    {
     "name": "stderr",
     "output_type": "stream",
     "text": [
      "2023-04-10 19:10:25.997967: W tensorflow/core/platform/profile_utils/cpu_utils.cc:128] Failed to get CPU frequency: 0 Hz\n"
     ]
    },
    {
     "name": "stdout",
     "output_type": "stream",
     "text": [
      "124/124 [==============================] - 1s 8ms/step - loss: 372.3318 - mse: 204925.6094 - val_loss: 218.8990 - val_mse: 67990.4688\n",
      "Epoch 2/30\n",
      "124/124 [==============================] - 1s 6ms/step - loss: 215.4410 - mse: 69585.8125 - val_loss: 192.4637 - val_mse: 54038.8672\n",
      "Epoch 3/30\n",
      "124/124 [==============================] - 1s 6ms/step - loss: 189.7988 - mse: 54387.1797 - val_loss: 179.8190 - val_mse: 47477.4688\n",
      "Epoch 4/30\n",
      "124/124 [==============================] - 1s 6ms/step - loss: 177.4871 - mse: 47538.5898 - val_loss: 170.0776 - val_mse: 43535.4023\n",
      "Epoch 5/30\n",
      "124/124 [==============================] - 1s 6ms/step - loss: 165.3159 - mse: 42108.6289 - val_loss: 169.9317 - val_mse: 43242.7539\n",
      "Epoch 6/30\n",
      "124/124 [==============================] - 1s 6ms/step - loss: 150.4990 - mse: 35423.5742 - val_loss: 146.3241 - val_mse: 32503.1699\n",
      "Epoch 7/30\n",
      "124/124 [==============================] - 1s 6ms/step - loss: 136.8776 - mse: 30528.2188 - val_loss: 128.0136 - val_mse: 25405.3242\n",
      "Epoch 8/30\n",
      "124/124 [==============================] - 1s 6ms/step - loss: 128.1916 - mse: 27580.3652 - val_loss: 122.8826 - val_mse: 22992.1211\n",
      "Epoch 9/30\n",
      "124/124 [==============================] - 1s 6ms/step - loss: 119.0804 - mse: 23670.8242 - val_loss: 110.3242 - val_mse: 19264.9004\n",
      "Epoch 10/30\n",
      "124/124 [==============================] - 1s 6ms/step - loss: 115.5806 - mse: 23141.8262 - val_loss: 111.2629 - val_mse: 19722.4238\n",
      "Epoch 11/30\n",
      "124/124 [==============================] - 1s 6ms/step - loss: 109.4725 - mse: 20748.8887 - val_loss: 107.0837 - val_mse: 18138.6289\n",
      "Epoch 12/30\n",
      "124/124 [==============================] - 1s 6ms/step - loss: 106.4996 - mse: 19911.6914 - val_loss: 106.2253 - val_mse: 17436.3262\n",
      "Epoch 13/30\n",
      "124/124 [==============================] - 1s 6ms/step - loss: 102.8477 - mse: 18382.9414 - val_loss: 104.6908 - val_mse: 17157.8496\n",
      "Epoch 14/30\n",
      "124/124 [==============================] - 1s 6ms/step - loss: 101.1467 - mse: 17943.7773 - val_loss: 101.6383 - val_mse: 16459.3145\n",
      "Epoch 15/30\n",
      "124/124 [==============================] - 1s 6ms/step - loss: 97.1749 - mse: 16881.7637 - val_loss: 102.0787 - val_mse: 16417.0684\n",
      "Epoch 16/30\n",
      "124/124 [==============================] - 1s 6ms/step - loss: 93.4949 - mse: 15744.3408 - val_loss: 93.9177 - val_mse: 14140.8535\n",
      "Epoch 17/30\n",
      "124/124 [==============================] - 1s 6ms/step - loss: 93.1183 - mse: 15863.1318 - val_loss: 99.3474 - val_mse: 15599.4043\n",
      "Epoch 18/30\n",
      "124/124 [==============================] - 1s 6ms/step - loss: 90.9341 - mse: 15213.7510 - val_loss: 103.5405 - val_mse: 16890.9941\n",
      "Epoch 19/30\n",
      "124/124 [==============================] - 1s 6ms/step - loss: 90.0696 - mse: 14829.4766 - val_loss: 84.0959 - val_mse: 11905.1260\n",
      "Epoch 20/30\n",
      "124/124 [==============================] - 1s 6ms/step - loss: 88.7985 - mse: 14513.6348 - val_loss: 98.8657 - val_mse: 15119.8633\n",
      "Epoch 21/30\n",
      "124/124 [==============================] - 1s 6ms/step - loss: 86.1957 - mse: 13806.1680 - val_loss: 86.1411 - val_mse: 12419.1768\n",
      "Epoch 22/30\n",
      "124/124 [==============================] - 1s 6ms/step - loss: 85.7824 - mse: 13897.4746 - val_loss: 97.3846 - val_mse: 14883.2656\n",
      "Epoch 23/30\n",
      "124/124 [==============================] - 1s 6ms/step - loss: 85.8363 - mse: 13962.7549 - val_loss: 90.4439 - val_mse: 13092.6221\n",
      "Epoch 24/30\n",
      "124/124 [==============================] - 1s 6ms/step - loss: 83.3397 - mse: 13059.1553 - val_loss: 90.4742 - val_mse: 13290.4434\n",
      "Epoch 25/30\n",
      "124/124 [==============================] - 1s 7ms/step - loss: 82.8900 - mse: 13149.8369 - val_loss: 93.3637 - val_mse: 14072.7891\n",
      "Epoch 26/30\n",
      "124/124 [==============================] - 1s 7ms/step - loss: 82.1601 - mse: 13038.2148 - val_loss: 94.4213 - val_mse: 14075.5049\n",
      "Epoch 27/30\n",
      "124/124 [==============================] - 1s 6ms/step - loss: 81.8934 - mse: 12981.7344 - val_loss: 89.6645 - val_mse: 12958.8486\n",
      "Epoch 28/30\n",
      "124/124 [==============================] - 1s 6ms/step - loss: 80.9435 - mse: 13035.5127 - val_loss: 88.3097 - val_mse: 12303.9736\n",
      "Epoch 29/30\n",
      "124/124 [==============================] - 1s 6ms/step - loss: 79.5135 - mse: 12593.5830 - val_loss: 92.5508 - val_mse: 13617.8506\n",
      "Epoch 30/30\n",
      "124/124 [==============================] - 1s 6ms/step - loss: 79.9604 - mse: 12386.4404 - val_loss: 92.2636 - val_mse: 13594.6865\n"
     ]
    }
   ],
   "source": [
    "history = model.fit(xtrain, ytrain, validation_split=0.1, epochs=30, batch_size=32)"
   ]
  },
  {
   "cell_type": "code",
   "execution_count": 28,
   "metadata": {
    "colab": {
     "base_uri": "https://localhost:8080/"
    },
    "id": "FoBE7VIC3FFK",
    "outputId": "3b09ab95-6661-4d45-a85f-20b7700e2982"
   },
   "outputs": [
    {
     "name": "stdout",
     "output_type": "stream",
     "text": [
      "35/35 [==============================] - 0s 2ms/step\n"
     ]
    }
   ],
   "source": [
    "y_pred = model.predict(xtest)"
   ]
  },
  {
   "cell_type": "code",
   "execution_count": 29,
   "metadata": {
    "id": "z03XN4oT3U-j"
   },
   "outputs": [],
   "source": [
    "xy = pd.DataFrame(xtesta)"
   ]
  },
  {
   "cell_type": "code",
   "execution_count": 30,
   "metadata": {
    "colab": {
     "base_uri": "https://localhost:8080/"
    },
    "id": "S2oIvJwy3Xxi",
    "outputId": "4a87f7ad-10b3-4647-efda-4efcef0e5f64"
   },
   "outputs": [
    {
     "name": "stdout",
     "output_type": "stream",
     "text": [
      "35/35 [==============================] - 0s 4ms/step - loss: 93.9583 - mse: 14411.1084\n"
     ]
    }
   ],
   "source": [
    "scores = model.evaluate(xtest, ytest)\n",
    "mae = scores[0]\n",
    "mse = scores[1]"
   ]
  },
  {
   "cell_type": "code",
   "execution_count": 31,
   "metadata": {
    "colab": {
     "base_uri": "https://localhost:8080/"
    },
    "id": "9ohTyD_m3ZnN",
    "outputId": "d828dd34-7086-4d6b-e252-a5e063fc68ed"
   },
   "outputs": [
    {
     "name": "stdout",
     "output_type": "stream",
     "text": [
      "Mean absolute error:  93.95832824707031\n",
      "Mean squared error:  14411.1083984375\n"
     ]
    }
   ],
   "source": [
    "print('Mean absolute error: ', mae)\n",
    "print('Mean squared error: ', mse)"
   ]
  },
  {
   "cell_type": "code",
   "execution_count": 32,
   "metadata": {
    "colab": {
     "base_uri": "https://localhost:8080/"
    },
    "id": "nCA10mVH3bte",
    "outputId": "f67286dc-a860-43ab-987b-1fedcf3b00df"
   },
   "outputs": [
    {
     "data": {
      "text/plain": [
       "0.7975642447655877"
      ]
     },
     "execution_count": 32,
     "metadata": {},
     "output_type": "execute_result"
    }
   ],
   "source": [
    "r2_score(ytest,y_pred) #R2 score for ANN"
   ]
  },
  {
   "cell_type": "code",
   "execution_count": 33,
   "metadata": {
    "id": "Drj0wQyv3eD6"
   },
   "outputs": [],
   "source": [
    "df2 = pd.read_excel(\"/Users/nithya/Downloads/J comp/state_test.xlsx\")"
   ]
  },
  {
   "cell_type": "code",
   "execution_count": 34,
   "metadata": {
    "colab": {
     "base_uri": "https://localhost:8080/"
    },
    "id": "eQUFz7FV4BOd",
    "outputId": "7495edec-f575-4a6c-9ce2-0b5e89a8d237"
   },
   "outputs": [
    {
     "data": {
      "text/plain": [
       "(28, 10)"
      ]
     },
     "execution_count": 34,
     "metadata": {},
     "output_type": "execute_result"
    }
   ],
   "source": [
    "df2.shape"
   ]
  },
  {
   "cell_type": "code",
   "execution_count": 35,
   "metadata": {
    "id": "R-A_FFeR4HKl"
   },
   "outputs": [],
   "source": [
    "df3 = df2.copy()"
   ]
  },
  {
   "cell_type": "code",
   "execution_count": 36,
   "metadata": {
    "id": "aKj31dTK4KgG"
   },
   "outputs": [],
   "source": [
    "df2 = scaler.transform(df2)"
   ]
  },
  {
   "cell_type": "code",
   "execution_count": 37,
   "metadata": {
    "colab": {
     "base_uri": "https://localhost:8080/"
    },
    "id": "SmDQ5eSN4MaV",
    "outputId": "a7d85e76-36c2-4fc4-adc9-adacede9d30d"
   },
   "outputs": [
    {
     "name": "stdout",
     "output_type": "stream",
     "text": [
      "1/1 [==============================] - 0s 25ms/step\n"
     ]
    }
   ],
   "source": [
    "y_preda = model.predict(df2)"
   ]
  },
  {
   "cell_type": "code",
   "execution_count": 38,
   "metadata": {
    "colab": {
     "base_uri": "https://localhost:8080/",
     "height": 204
    },
    "id": "s_AaXhj24yLg",
    "outputId": "2c8df14c-5153-4579-ed23-cb85a2caf3fb"
   },
   "outputs": [
    {
     "data": {
      "text/html": [
       "<div>\n",
       "<style scoped>\n",
       "    .dataframe tbody tr th:only-of-type {\n",
       "        vertical-align: middle;\n",
       "    }\n",
       "\n",
       "    .dataframe tbody tr th {\n",
       "        vertical-align: top;\n",
       "    }\n",
       "\n",
       "    .dataframe thead th {\n",
       "        text-align: right;\n",
       "    }\n",
       "</style>\n",
       "<table border=\"1\" class=\"dataframe\">\n",
       "  <thead>\n",
       "    <tr style=\"text-align: right;\">\n",
       "      <th></th>\n",
       "      <th>Temp</th>\n",
       "      <th>Humidity</th>\n",
       "      <th>WindSpeed</th>\n",
       "      <th>WindDirection</th>\n",
       "      <th>AirPressure</th>\n",
       "      <th>State</th>\n",
       "      <th>Year</th>\n",
       "      <th>Month</th>\n",
       "      <th>Day</th>\n",
       "      <th>Hour</th>\n",
       "    </tr>\n",
       "  </thead>\n",
       "  <tbody>\n",
       "    <tr>\n",
       "      <th>0</th>\n",
       "      <td>30.71</td>\n",
       "      <td>36.15</td>\n",
       "      <td>2.83</td>\n",
       "      <td>55</td>\n",
       "      <td>95423</td>\n",
       "      <td>0</td>\n",
       "      <td>2015</td>\n",
       "      <td>11</td>\n",
       "      <td>12</td>\n",
       "      <td>9</td>\n",
       "    </tr>\n",
       "    <tr>\n",
       "      <th>1</th>\n",
       "      <td>19.78</td>\n",
       "      <td>47.65</td>\n",
       "      <td>1.17</td>\n",
       "      <td>158</td>\n",
       "      <td>90845</td>\n",
       "      <td>1</td>\n",
       "      <td>2015</td>\n",
       "      <td>1</td>\n",
       "      <td>21</td>\n",
       "      <td>7</td>\n",
       "    </tr>\n",
       "    <tr>\n",
       "      <th>2</th>\n",
       "      <td>27.78</td>\n",
       "      <td>75.60</td>\n",
       "      <td>0.55</td>\n",
       "      <td>280</td>\n",
       "      <td>91791</td>\n",
       "      <td>2</td>\n",
       "      <td>2015</td>\n",
       "      <td>5</td>\n",
       "      <td>11</td>\n",
       "      <td>6</td>\n",
       "    </tr>\n",
       "    <tr>\n",
       "      <th>3</th>\n",
       "      <td>22.59</td>\n",
       "      <td>51.20</td>\n",
       "      <td>0.48</td>\n",
       "      <td>260</td>\n",
       "      <td>100999</td>\n",
       "      <td>3</td>\n",
       "      <td>2015</td>\n",
       "      <td>1</td>\n",
       "      <td>6</td>\n",
       "      <td>11</td>\n",
       "    </tr>\n",
       "    <tr>\n",
       "      <th>4</th>\n",
       "      <td>28.21</td>\n",
       "      <td>48.60</td>\n",
       "      <td>2.62</td>\n",
       "      <td>59</td>\n",
       "      <td>98252</td>\n",
       "      <td>4</td>\n",
       "      <td>2015</td>\n",
       "      <td>11</td>\n",
       "      <td>10</td>\n",
       "      <td>5</td>\n",
       "    </tr>\n",
       "  </tbody>\n",
       "</table>\n",
       "</div>"
      ],
      "text/plain": [
       "    Temp  Humidity  WindSpeed  WindDirection  AirPressure  State  Year  Month  \\\n",
       "0  30.71     36.15       2.83             55        95423      0  2015     11   \n",
       "1  19.78     47.65       1.17            158        90845      1  2015      1   \n",
       "2  27.78     75.60       0.55            280        91791      2  2015      5   \n",
       "3  22.59     51.20       0.48            260       100999      3  2015      1   \n",
       "4  28.21     48.60       2.62             59        98252      4  2015     11   \n",
       "\n",
       "   Day  Hour  \n",
       "0   12     9  \n",
       "1   21     7  \n",
       "2   11     6  \n",
       "3    6    11  \n",
       "4   10     5  "
      ]
     },
     "execution_count": 38,
     "metadata": {},
     "output_type": "execute_result"
    }
   ],
   "source": [
    "df3.head()"
   ]
  },
  {
   "cell_type": "code",
   "execution_count": 39,
   "metadata": {
    "id": "rDr6Vtq-43EF"
   },
   "outputs": [],
   "source": [
    "df3['State'] = label_encoder.inverse_transform(df3['State'])"
   ]
  },
  {
   "cell_type": "code",
   "execution_count": 40,
   "metadata": {
    "id": "a4zDIEov4_VW"
   },
   "outputs": [],
   "source": [
    "df3['Predicted'] = y_preda"
   ]
  },
  {
   "cell_type": "code",
   "execution_count": 41,
   "metadata": {
    "id": "A8a8T4HX7R6w"
   },
   "outputs": [],
   "source": [
    "ytesta = pd.read_excel(\"/Users/nithya/Downloads/J comp/ytesta.xlsx\")"
   ]
  },
  {
   "cell_type": "code",
   "execution_count": 42,
   "metadata": {
    "colab": {
     "base_uri": "https://localhost:8080/"
    },
    "id": "yOyaLorX_OfD",
    "outputId": "285cb1c1-3e4d-428d-b642-831577cafe8e"
   },
   "outputs": [
    {
     "data": {
      "text/plain": [
       "(28, 1)"
      ]
     },
     "execution_count": 42,
     "metadata": {},
     "output_type": "execute_result"
    }
   ],
   "source": [
    "ytesta.to_numpy().shape"
   ]
  },
  {
   "cell_type": "code",
   "execution_count": 43,
   "metadata": {
    "id": "WiDjfY1L_15F"
   },
   "outputs": [],
   "source": [
    "df3['Actual'] = ytesta"
   ]
  },
  {
   "cell_type": "code",
   "execution_count": 44,
   "metadata": {
    "colab": {
     "base_uri": "https://localhost:8080/",
     "height": 917
    },
    "id": "8MMC517h5E-5",
    "outputId": "10db6b32-4ae5-48c6-dd6a-d4de196345bf"
   },
   "outputs": [
    {
     "data": {
      "text/html": [
       "<div>\n",
       "<style scoped>\n",
       "    .dataframe tbody tr th:only-of-type {\n",
       "        vertical-align: middle;\n",
       "    }\n",
       "\n",
       "    .dataframe tbody tr th {\n",
       "        vertical-align: top;\n",
       "    }\n",
       "\n",
       "    .dataframe thead th {\n",
       "        text-align: right;\n",
       "    }\n",
       "</style>\n",
       "<table border=\"1\" class=\"dataframe\">\n",
       "  <thead>\n",
       "    <tr style=\"text-align: right;\">\n",
       "      <th></th>\n",
       "      <th>Temp</th>\n",
       "      <th>Humidity</th>\n",
       "      <th>WindSpeed</th>\n",
       "      <th>WindDirection</th>\n",
       "      <th>AirPressure</th>\n",
       "      <th>State</th>\n",
       "      <th>Year</th>\n",
       "      <th>Month</th>\n",
       "      <th>Day</th>\n",
       "      <th>Hour</th>\n",
       "      <th>Predicted</th>\n",
       "      <th>Actual</th>\n",
       "    </tr>\n",
       "  </thead>\n",
       "  <tbody>\n",
       "    <tr>\n",
       "      <th>0</th>\n",
       "      <td>30.71</td>\n",
       "      <td>36.15</td>\n",
       "      <td>2.83</td>\n",
       "      <td>55</td>\n",
       "      <td>95423</td>\n",
       "      <td>andhra pradesh</td>\n",
       "      <td>2015</td>\n",
       "      <td>11</td>\n",
       "      <td>12</td>\n",
       "      <td>9</td>\n",
       "      <td>538.497314</td>\n",
       "      <td>659.00</td>\n",
       "    </tr>\n",
       "    <tr>\n",
       "      <th>1</th>\n",
       "      <td>19.78</td>\n",
       "      <td>47.65</td>\n",
       "      <td>1.17</td>\n",
       "      <td>158</td>\n",
       "      <td>90845</td>\n",
       "      <td>arunachal pradesh</td>\n",
       "      <td>2015</td>\n",
       "      <td>1</td>\n",
       "      <td>21</td>\n",
       "      <td>7</td>\n",
       "      <td>579.009766</td>\n",
       "      <td>515.00</td>\n",
       "    </tr>\n",
       "    <tr>\n",
       "      <th>2</th>\n",
       "      <td>27.78</td>\n",
       "      <td>75.60</td>\n",
       "      <td>0.55</td>\n",
       "      <td>280</td>\n",
       "      <td>91791</td>\n",
       "      <td>assam</td>\n",
       "      <td>2015</td>\n",
       "      <td>5</td>\n",
       "      <td>11</td>\n",
       "      <td>6</td>\n",
       "      <td>725.885376</td>\n",
       "      <td>395.00</td>\n",
       "    </tr>\n",
       "    <tr>\n",
       "      <th>3</th>\n",
       "      <td>22.59</td>\n",
       "      <td>51.20</td>\n",
       "      <td>0.48</td>\n",
       "      <td>260</td>\n",
       "      <td>100999</td>\n",
       "      <td>bihar</td>\n",
       "      <td>2015</td>\n",
       "      <td>1</td>\n",
       "      <td>6</td>\n",
       "      <td>11</td>\n",
       "      <td>192.246933</td>\n",
       "      <td>102.00</td>\n",
       "    </tr>\n",
       "    <tr>\n",
       "      <th>4</th>\n",
       "      <td>28.21</td>\n",
       "      <td>48.60</td>\n",
       "      <td>2.62</td>\n",
       "      <td>59</td>\n",
       "      <td>98252</td>\n",
       "      <td>chhattisgarh</td>\n",
       "      <td>2015</td>\n",
       "      <td>11</td>\n",
       "      <td>10</td>\n",
       "      <td>5</td>\n",
       "      <td>590.484985</td>\n",
       "      <td>843.00</td>\n",
       "    </tr>\n",
       "    <tr>\n",
       "      <th>5</th>\n",
       "      <td>10.79</td>\n",
       "      <td>92.50</td>\n",
       "      <td>1.59</td>\n",
       "      <td>305</td>\n",
       "      <td>98969</td>\n",
       "      <td>delhi</td>\n",
       "      <td>2015</td>\n",
       "      <td>3</td>\n",
       "      <td>12</td>\n",
       "      <td>2</td>\n",
       "      <td>105.945969</td>\n",
       "      <td>333.00</td>\n",
       "    </tr>\n",
       "    <tr>\n",
       "      <th>6</th>\n",
       "      <td>28.29</td>\n",
       "      <td>45.20</td>\n",
       "      <td>0.76</td>\n",
       "      <td>343</td>\n",
       "      <td>100251</td>\n",
       "      <td>goa</td>\n",
       "      <td>2015</td>\n",
       "      <td>1</td>\n",
       "      <td>8</td>\n",
       "      <td>5</td>\n",
       "      <td>733.121460</td>\n",
       "      <td>620.00</td>\n",
       "    </tr>\n",
       "    <tr>\n",
       "      <th>7</th>\n",
       "      <td>29.47</td>\n",
       "      <td>22.95</td>\n",
       "      <td>2.90</td>\n",
       "      <td>60</td>\n",
       "      <td>100685</td>\n",
       "      <td>gujarat</td>\n",
       "      <td>2015</td>\n",
       "      <td>2</td>\n",
       "      <td>4</td>\n",
       "      <td>9</td>\n",
       "      <td>649.399597</td>\n",
       "      <td>242.00</td>\n",
       "    </tr>\n",
       "    <tr>\n",
       "      <th>8</th>\n",
       "      <td>19.54</td>\n",
       "      <td>87.60</td>\n",
       "      <td>1.52</td>\n",
       "      <td>113</td>\n",
       "      <td>98861</td>\n",
       "      <td>haryana</td>\n",
       "      <td>2015</td>\n",
       "      <td>4</td>\n",
       "      <td>13</td>\n",
       "      <td>1</td>\n",
       "      <td>36.110638</td>\n",
       "      <td>16.00</td>\n",
       "    </tr>\n",
       "    <tr>\n",
       "      <th>9</th>\n",
       "      <td>16.18</td>\n",
       "      <td>43.00</td>\n",
       "      <td>1.10</td>\n",
       "      <td>252</td>\n",
       "      <td>78671</td>\n",
       "      <td>himachal pradesh</td>\n",
       "      <td>2015</td>\n",
       "      <td>5</td>\n",
       "      <td>10</td>\n",
       "      <td>9</td>\n",
       "      <td>721.834961</td>\n",
       "      <td>1081.00</td>\n",
       "    </tr>\n",
       "    <tr>\n",
       "      <th>10</th>\n",
       "      <td>29.63</td>\n",
       "      <td>66.80</td>\n",
       "      <td>2.76</td>\n",
       "      <td>282</td>\n",
       "      <td>95207</td>\n",
       "      <td>jharkhand</td>\n",
       "      <td>2015</td>\n",
       "      <td>8</td>\n",
       "      <td>7</td>\n",
       "      <td>7</td>\n",
       "      <td>655.225403</td>\n",
       "      <td>98.00</td>\n",
       "    </tr>\n",
       "    <tr>\n",
       "      <th>11</th>\n",
       "      <td>23.45</td>\n",
       "      <td>50.75</td>\n",
       "      <td>3.45</td>\n",
       "      <td>109</td>\n",
       "      <td>95366</td>\n",
       "      <td>karnataka</td>\n",
       "      <td>2016</td>\n",
       "      <td>1</td>\n",
       "      <td>8</td>\n",
       "      <td>4</td>\n",
       "      <td>338.286926</td>\n",
       "      <td>443.00</td>\n",
       "    </tr>\n",
       "    <tr>\n",
       "      <th>12</th>\n",
       "      <td>24.79</td>\n",
       "      <td>65.40</td>\n",
       "      <td>1.31</td>\n",
       "      <td>57</td>\n",
       "      <td>99657</td>\n",
       "      <td>kerala</td>\n",
       "      <td>2016</td>\n",
       "      <td>2</td>\n",
       "      <td>17</td>\n",
       "      <td>3</td>\n",
       "      <td>282.848785</td>\n",
       "      <td>240.00</td>\n",
       "    </tr>\n",
       "    <tr>\n",
       "      <th>13</th>\n",
       "      <td>33.69</td>\n",
       "      <td>41.70</td>\n",
       "      <td>1.79</td>\n",
       "      <td>251</td>\n",
       "      <td>96349</td>\n",
       "      <td>madhya pradesh</td>\n",
       "      <td>2011</td>\n",
       "      <td>6</td>\n",
       "      <td>4</td>\n",
       "      <td>4</td>\n",
       "      <td>553.581482</td>\n",
       "      <td>950.00</td>\n",
       "    </tr>\n",
       "    <tr>\n",
       "      <th>14</th>\n",
       "      <td>27.16</td>\n",
       "      <td>28.00</td>\n",
       "      <td>2.34</td>\n",
       "      <td>116</td>\n",
       "      <td>94484</td>\n",
       "      <td>maharashtra</td>\n",
       "      <td>2015</td>\n",
       "      <td>2</td>\n",
       "      <td>5</td>\n",
       "      <td>6</td>\n",
       "      <td>675.035706</td>\n",
       "      <td>831.00</td>\n",
       "    </tr>\n",
       "    <tr>\n",
       "      <th>15</th>\n",
       "      <td>22.02</td>\n",
       "      <td>81.90</td>\n",
       "      <td>0.62</td>\n",
       "      <td>97</td>\n",
       "      <td>92853</td>\n",
       "      <td>manipur</td>\n",
       "      <td>2015</td>\n",
       "      <td>10</td>\n",
       "      <td>16</td>\n",
       "      <td>3</td>\n",
       "      <td>329.308960</td>\n",
       "      <td>709.00</td>\n",
       "    </tr>\n",
       "    <tr>\n",
       "      <th>16</th>\n",
       "      <td>10.05</td>\n",
       "      <td>57.95</td>\n",
       "      <td>0.76</td>\n",
       "      <td>80</td>\n",
       "      <td>84779</td>\n",
       "      <td>meghalaya</td>\n",
       "      <td>2015</td>\n",
       "      <td>1</td>\n",
       "      <td>22</td>\n",
       "      <td>2</td>\n",
       "      <td>216.432953</td>\n",
       "      <td>170.00</td>\n",
       "    </tr>\n",
       "    <tr>\n",
       "      <th>17</th>\n",
       "      <td>25.38</td>\n",
       "      <td>63.00</td>\n",
       "      <td>0.90</td>\n",
       "      <td>274</td>\n",
       "      <td>92553</td>\n",
       "      <td>mizoram</td>\n",
       "      <td>2015</td>\n",
       "      <td>10</td>\n",
       "      <td>18</td>\n",
       "      <td>6</td>\n",
       "      <td>682.117371</td>\n",
       "      <td>859.00</td>\n",
       "    </tr>\n",
       "    <tr>\n",
       "      <th>18</th>\n",
       "      <td>22.53</td>\n",
       "      <td>77.80</td>\n",
       "      <td>1.72</td>\n",
       "      <td>241</td>\n",
       "      <td>81408</td>\n",
       "      <td>nagaland</td>\n",
       "      <td>2015</td>\n",
       "      <td>8</td>\n",
       "      <td>11</td>\n",
       "      <td>5</td>\n",
       "      <td>673.983154</td>\n",
       "      <td>192.00</td>\n",
       "    </tr>\n",
       "    <tr>\n",
       "      <th>19</th>\n",
       "      <td>33.77</td>\n",
       "      <td>52.25</td>\n",
       "      <td>1.79</td>\n",
       "      <td>152</td>\n",
       "      <td>95655</td>\n",
       "      <td>orissa</td>\n",
       "      <td>2015</td>\n",
       "      <td>5</td>\n",
       "      <td>18</td>\n",
       "      <td>11</td>\n",
       "      <td>262.269470</td>\n",
       "      <td>366.00</td>\n",
       "    </tr>\n",
       "    <tr>\n",
       "      <th>20</th>\n",
       "      <td>18.00</td>\n",
       "      <td>60.40</td>\n",
       "      <td>1.66</td>\n",
       "      <td>96</td>\n",
       "      <td>98809</td>\n",
       "      <td>punjab</td>\n",
       "      <td>2015</td>\n",
       "      <td>2</td>\n",
       "      <td>1</td>\n",
       "      <td>12</td>\n",
       "      <td>41.686394</td>\n",
       "      <td>266.00</td>\n",
       "    </tr>\n",
       "    <tr>\n",
       "      <th>21</th>\n",
       "      <td>23.98</td>\n",
       "      <td>37.30</td>\n",
       "      <td>2.69</td>\n",
       "      <td>15</td>\n",
       "      <td>97650</td>\n",
       "      <td>rajasthan</td>\n",
       "      <td>2015</td>\n",
       "      <td>12</td>\n",
       "      <td>2</td>\n",
       "      <td>6</td>\n",
       "      <td>598.933716</td>\n",
       "      <td>543.00</td>\n",
       "    </tr>\n",
       "    <tr>\n",
       "      <th>22</th>\n",
       "      <td>15.25</td>\n",
       "      <td>90.30</td>\n",
       "      <td>0.76</td>\n",
       "      <td>178</td>\n",
       "      <td>80454</td>\n",
       "      <td>sikkim</td>\n",
       "      <td>2015</td>\n",
       "      <td>10</td>\n",
       "      <td>4</td>\n",
       "      <td>10</td>\n",
       "      <td>210.474152</td>\n",
       "      <td>212.95</td>\n",
       "    </tr>\n",
       "    <tr>\n",
       "      <th>23</th>\n",
       "      <td>20.37</td>\n",
       "      <td>88.25</td>\n",
       "      <td>4.41</td>\n",
       "      <td>247</td>\n",
       "      <td>99717</td>\n",
       "      <td>tamil nadu</td>\n",
       "      <td>2015</td>\n",
       "      <td>11</td>\n",
       "      <td>10</td>\n",
       "      <td>5</td>\n",
       "      <td>394.092316</td>\n",
       "      <td>577.00</td>\n",
       "    </tr>\n",
       "    <tr>\n",
       "      <th>24</th>\n",
       "      <td>28.35</td>\n",
       "      <td>73.75</td>\n",
       "      <td>0.83</td>\n",
       "      <td>298</td>\n",
       "      <td>99688</td>\n",
       "      <td>tripura</td>\n",
       "      <td>2015</td>\n",
       "      <td>10</td>\n",
       "      <td>18</td>\n",
       "      <td>10</td>\n",
       "      <td>294.807739</td>\n",
       "      <td>291.00</td>\n",
       "    </tr>\n",
       "    <tr>\n",
       "      <th>25</th>\n",
       "      <td>33.75</td>\n",
       "      <td>39.45</td>\n",
       "      <td>4.21</td>\n",
       "      <td>291</td>\n",
       "      <td>98872</td>\n",
       "      <td>uttar pradesh</td>\n",
       "      <td>2015</td>\n",
       "      <td>10</td>\n",
       "      <td>9</td>\n",
       "      <td>7</td>\n",
       "      <td>719.586731</td>\n",
       "      <td>845.00</td>\n",
       "    </tr>\n",
       "    <tr>\n",
       "      <th>26</th>\n",
       "      <td>18.64</td>\n",
       "      <td>47.35</td>\n",
       "      <td>1.45</td>\n",
       "      <td>232</td>\n",
       "      <td>96292</td>\n",
       "      <td>uttrakhand</td>\n",
       "      <td>2015</td>\n",
       "      <td>1</td>\n",
       "      <td>1</td>\n",
       "      <td>9</td>\n",
       "      <td>461.501831</td>\n",
       "      <td>324.00</td>\n",
       "    </tr>\n",
       "    <tr>\n",
       "      <th>27</th>\n",
       "      <td>28.32</td>\n",
       "      <td>22.75</td>\n",
       "      <td>2.41</td>\n",
       "      <td>355</td>\n",
       "      <td>101509</td>\n",
       "      <td>west bengal</td>\n",
       "      <td>2015</td>\n",
       "      <td>3</td>\n",
       "      <td>12</td>\n",
       "      <td>4</td>\n",
       "      <td>613.064514</td>\n",
       "      <td>670.00</td>\n",
       "    </tr>\n",
       "  </tbody>\n",
       "</table>\n",
       "</div>"
      ],
      "text/plain": [
       "     Temp  Humidity  WindSpeed  WindDirection  AirPressure              State  \\\n",
       "0   30.71     36.15       2.83             55        95423     andhra pradesh   \n",
       "1   19.78     47.65       1.17            158        90845  arunachal pradesh   \n",
       "2   27.78     75.60       0.55            280        91791              assam   \n",
       "3   22.59     51.20       0.48            260       100999              bihar   \n",
       "4   28.21     48.60       2.62             59        98252       chhattisgarh   \n",
       "5   10.79     92.50       1.59            305        98969              delhi   \n",
       "6   28.29     45.20       0.76            343       100251                goa   \n",
       "7   29.47     22.95       2.90             60       100685            gujarat   \n",
       "8   19.54     87.60       1.52            113        98861            haryana   \n",
       "9   16.18     43.00       1.10            252        78671   himachal pradesh   \n",
       "10  29.63     66.80       2.76            282        95207          jharkhand   \n",
       "11  23.45     50.75       3.45            109        95366          karnataka   \n",
       "12  24.79     65.40       1.31             57        99657             kerala   \n",
       "13  33.69     41.70       1.79            251        96349     madhya pradesh   \n",
       "14  27.16     28.00       2.34            116        94484        maharashtra   \n",
       "15  22.02     81.90       0.62             97        92853            manipur   \n",
       "16  10.05     57.95       0.76             80        84779          meghalaya   \n",
       "17  25.38     63.00       0.90            274        92553            mizoram   \n",
       "18  22.53     77.80       1.72            241        81408           nagaland   \n",
       "19  33.77     52.25       1.79            152        95655             orissa   \n",
       "20  18.00     60.40       1.66             96        98809             punjab   \n",
       "21  23.98     37.30       2.69             15        97650          rajasthan   \n",
       "22  15.25     90.30       0.76            178        80454             sikkim   \n",
       "23  20.37     88.25       4.41            247        99717         tamil nadu   \n",
       "24  28.35     73.75       0.83            298        99688            tripura   \n",
       "25  33.75     39.45       4.21            291        98872      uttar pradesh   \n",
       "26  18.64     47.35       1.45            232        96292         uttrakhand   \n",
       "27  28.32     22.75       2.41            355       101509        west bengal   \n",
       "\n",
       "    Year  Month  Day  Hour   Predicted   Actual  \n",
       "0   2015     11   12     9  538.497314   659.00  \n",
       "1   2015      1   21     7  579.009766   515.00  \n",
       "2   2015      5   11     6  725.885376   395.00  \n",
       "3   2015      1    6    11  192.246933   102.00  \n",
       "4   2015     11   10     5  590.484985   843.00  \n",
       "5   2015      3   12     2  105.945969   333.00  \n",
       "6   2015      1    8     5  733.121460   620.00  \n",
       "7   2015      2    4     9  649.399597   242.00  \n",
       "8   2015      4   13     1   36.110638    16.00  \n",
       "9   2015      5   10     9  721.834961  1081.00  \n",
       "10  2015      8    7     7  655.225403    98.00  \n",
       "11  2016      1    8     4  338.286926   443.00  \n",
       "12  2016      2   17     3  282.848785   240.00  \n",
       "13  2011      6    4     4  553.581482   950.00  \n",
       "14  2015      2    5     6  675.035706   831.00  \n",
       "15  2015     10   16     3  329.308960   709.00  \n",
       "16  2015      1   22     2  216.432953   170.00  \n",
       "17  2015     10   18     6  682.117371   859.00  \n",
       "18  2015      8   11     5  673.983154   192.00  \n",
       "19  2015      5   18    11  262.269470   366.00  \n",
       "20  2015      2    1    12   41.686394   266.00  \n",
       "21  2015     12    2     6  598.933716   543.00  \n",
       "22  2015     10    4    10  210.474152   212.95  \n",
       "23  2015     11   10     5  394.092316   577.00  \n",
       "24  2015     10   18    10  294.807739   291.00  \n",
       "25  2015     10    9     7  719.586731   845.00  \n",
       "26  2015      1    1     9  461.501831   324.00  \n",
       "27  2015      3   12     4  613.064514   670.00  "
      ]
     },
     "execution_count": 44,
     "metadata": {},
     "output_type": "execute_result"
    }
   ],
   "source": [
    "df3 #Sample predictions for neural network"
   ]
  },
  {
   "cell_type": "code",
   "execution_count": 45,
   "metadata": {
    "colab": {
     "base_uri": "https://localhost:8080/"
    },
    "id": "V0WGz_koAIu4",
    "outputId": "01d4d550-8e62-4d42-a0b7-c847fe12430d"
   },
   "outputs": [
    {
     "data": {
      "text/plain": [
       "0.2958423195659854"
      ]
     },
     "execution_count": 45,
     "metadata": {},
     "output_type": "execute_result"
    }
   ],
   "source": [
    "#r2_score(ytesta,y_preda)"
   ]
  },
  {
   "cell_type": "code",
   "execution_count": 38,
   "metadata": {
    "colab": {
     "base_uri": "https://localhost:8080/",
     "height": 74
    },
    "id": "NrviMOv05phN",
    "outputId": "a3616777-a83b-410c-94ed-8920197f9a78"
   },
   "outputs": [
    {
     "data": {
      "text/html": [
       "<style>#sk-container-id-4 {color: black;background-color: white;}#sk-container-id-4 pre{padding: 0;}#sk-container-id-4 div.sk-toggleable {background-color: white;}#sk-container-id-4 label.sk-toggleable__label {cursor: pointer;display: block;width: 100%;margin-bottom: 0;padding: 0.3em;box-sizing: border-box;text-align: center;}#sk-container-id-4 label.sk-toggleable__label-arrow:before {content: \"▸\";float: left;margin-right: 0.25em;color: #696969;}#sk-container-id-4 label.sk-toggleable__label-arrow:hover:before {color: black;}#sk-container-id-4 div.sk-estimator:hover label.sk-toggleable__label-arrow:before {color: black;}#sk-container-id-4 div.sk-toggleable__content {max-height: 0;max-width: 0;overflow: hidden;text-align: left;background-color: #f0f8ff;}#sk-container-id-4 div.sk-toggleable__content pre {margin: 0.2em;color: black;border-radius: 0.25em;background-color: #f0f8ff;}#sk-container-id-4 input.sk-toggleable__control:checked~div.sk-toggleable__content {max-height: 200px;max-width: 100%;overflow: auto;}#sk-container-id-4 input.sk-toggleable__control:checked~label.sk-toggleable__label-arrow:before {content: \"▾\";}#sk-container-id-4 div.sk-estimator input.sk-toggleable__control:checked~label.sk-toggleable__label {background-color: #d4ebff;}#sk-container-id-4 div.sk-label input.sk-toggleable__control:checked~label.sk-toggleable__label {background-color: #d4ebff;}#sk-container-id-4 input.sk-hidden--visually {border: 0;clip: rect(1px 1px 1px 1px);clip: rect(1px, 1px, 1px, 1px);height: 1px;margin: -1px;overflow: hidden;padding: 0;position: absolute;width: 1px;}#sk-container-id-4 div.sk-estimator {font-family: monospace;background-color: #f0f8ff;border: 1px dotted black;border-radius: 0.25em;box-sizing: border-box;margin-bottom: 0.5em;}#sk-container-id-4 div.sk-estimator:hover {background-color: #d4ebff;}#sk-container-id-4 div.sk-parallel-item::after {content: \"\";width: 100%;border-bottom: 1px solid gray;flex-grow: 1;}#sk-container-id-4 div.sk-label:hover label.sk-toggleable__label {background-color: #d4ebff;}#sk-container-id-4 div.sk-serial::before {content: \"\";position: absolute;border-left: 1px solid gray;box-sizing: border-box;top: 0;bottom: 0;left: 50%;z-index: 0;}#sk-container-id-4 div.sk-serial {display: flex;flex-direction: column;align-items: center;background-color: white;padding-right: 0.2em;padding-left: 0.2em;position: relative;}#sk-container-id-4 div.sk-item {position: relative;z-index: 1;}#sk-container-id-4 div.sk-parallel {display: flex;align-items: stretch;justify-content: center;background-color: white;position: relative;}#sk-container-id-4 div.sk-item::before, #sk-container-id-4 div.sk-parallel-item::before {content: \"\";position: absolute;border-left: 1px solid gray;box-sizing: border-box;top: 0;bottom: 0;left: 50%;z-index: -1;}#sk-container-id-4 div.sk-parallel-item {display: flex;flex-direction: column;z-index: 1;position: relative;background-color: white;}#sk-container-id-4 div.sk-parallel-item:first-child::after {align-self: flex-end;width: 50%;}#sk-container-id-4 div.sk-parallel-item:last-child::after {align-self: flex-start;width: 50%;}#sk-container-id-4 div.sk-parallel-item:only-child::after {width: 0;}#sk-container-id-4 div.sk-dashed-wrapped {border: 1px dashed gray;margin: 0 0.4em 0.5em 0.4em;box-sizing: border-box;padding-bottom: 0.4em;background-color: white;}#sk-container-id-4 div.sk-label label {font-family: monospace;font-weight: bold;display: inline-block;line-height: 1.2em;}#sk-container-id-4 div.sk-label-container {text-align: center;}#sk-container-id-4 div.sk-container {/* jupyter's `normalize.less` sets `[hidden] { display: none; }` but bootstrap.min.css set `[hidden] { display: none !important; }` so we also need the `!important` here to be able to override the default hidden behavior on the sphinx rendered scikit-learn.org. See: https://github.com/scikit-learn/scikit-learn/issues/21755 */display: inline-block !important;position: relative;}#sk-container-id-4 div.sk-text-repr-fallback {display: none;}</style><div id=\"sk-container-id-4\" class=\"sk-top-container\"><div class=\"sk-text-repr-fallback\"><pre>SVR(kernel=&#x27;linear&#x27;)</pre><b>In a Jupyter environment, please rerun this cell to show the HTML representation or trust the notebook. <br />On GitHub, the HTML representation is unable to render, please try loading this page with nbviewer.org.</b></div><div class=\"sk-container\" hidden><div class=\"sk-item\"><div class=\"sk-estimator sk-toggleable\"><input class=\"sk-toggleable__control sk-hidden--visually\" id=\"sk-estimator-id-4\" type=\"checkbox\" checked><label for=\"sk-estimator-id-4\" class=\"sk-toggleable__label sk-toggleable__label-arrow\">SVR</label><div class=\"sk-toggleable__content\"><pre>SVR(kernel=&#x27;linear&#x27;)</pre></div></div></div></div></div>"
      ],
      "text/plain": [
       "SVR(kernel='linear')"
      ]
     },
     "execution_count": 38,
     "metadata": {},
     "output_type": "execute_result"
    }
   ],
   "source": [
    "#Support Vector Regression\n",
    "from sklearn.svm import SVR\n",
    "regressor = SVR(kernel = 'linear')\n",
    "regressor.fit(xtrain, ytrain)"
   ]
  },
  {
   "cell_type": "code",
   "execution_count": 47,
   "metadata": {
    "id": "Uq7Y2f2KAjzl"
   },
   "outputs": [],
   "source": [
    "ypredb = regressor.predict(xtest)"
   ]
  },
  {
   "cell_type": "code",
   "execution_count": 48,
   "metadata": {
    "colab": {
     "base_uri": "https://localhost:8080/"
    },
    "id": "SI2H9xL1A6kf",
    "outputId": "a2caf0a0-1da7-4670-8f8e-0bdc84f50745"
   },
   "outputs": [
    {
     "data": {
      "text/plain": [
       "0.28819338561956365"
      ]
     },
     "execution_count": 48,
     "metadata": {},
     "output_type": "execute_result"
    }
   ],
   "source": [
    "r2_score(ytest,ypredb)"
   ]
  },
  {
   "cell_type": "code",
   "execution_count": 39,
   "metadata": {
    "colab": {
     "base_uri": "https://localhost:8080/",
     "height": 74
    },
    "id": "AcbXO2XOBDI8",
    "outputId": "89fdfa5e-a09b-485e-b76a-b65362d73717"
   },
   "outputs": [
    {
     "data": {
      "text/html": [
       "<style>#sk-container-id-5 {color: black;background-color: white;}#sk-container-id-5 pre{padding: 0;}#sk-container-id-5 div.sk-toggleable {background-color: white;}#sk-container-id-5 label.sk-toggleable__label {cursor: pointer;display: block;width: 100%;margin-bottom: 0;padding: 0.3em;box-sizing: border-box;text-align: center;}#sk-container-id-5 label.sk-toggleable__label-arrow:before {content: \"▸\";float: left;margin-right: 0.25em;color: #696969;}#sk-container-id-5 label.sk-toggleable__label-arrow:hover:before {color: black;}#sk-container-id-5 div.sk-estimator:hover label.sk-toggleable__label-arrow:before {color: black;}#sk-container-id-5 div.sk-toggleable__content {max-height: 0;max-width: 0;overflow: hidden;text-align: left;background-color: #f0f8ff;}#sk-container-id-5 div.sk-toggleable__content pre {margin: 0.2em;color: black;border-radius: 0.25em;background-color: #f0f8ff;}#sk-container-id-5 input.sk-toggleable__control:checked~div.sk-toggleable__content {max-height: 200px;max-width: 100%;overflow: auto;}#sk-container-id-5 input.sk-toggleable__control:checked~label.sk-toggleable__label-arrow:before {content: \"▾\";}#sk-container-id-5 div.sk-estimator input.sk-toggleable__control:checked~label.sk-toggleable__label {background-color: #d4ebff;}#sk-container-id-5 div.sk-label input.sk-toggleable__control:checked~label.sk-toggleable__label {background-color: #d4ebff;}#sk-container-id-5 input.sk-hidden--visually {border: 0;clip: rect(1px 1px 1px 1px);clip: rect(1px, 1px, 1px, 1px);height: 1px;margin: -1px;overflow: hidden;padding: 0;position: absolute;width: 1px;}#sk-container-id-5 div.sk-estimator {font-family: monospace;background-color: #f0f8ff;border: 1px dotted black;border-radius: 0.25em;box-sizing: border-box;margin-bottom: 0.5em;}#sk-container-id-5 div.sk-estimator:hover {background-color: #d4ebff;}#sk-container-id-5 div.sk-parallel-item::after {content: \"\";width: 100%;border-bottom: 1px solid gray;flex-grow: 1;}#sk-container-id-5 div.sk-label:hover label.sk-toggleable__label {background-color: #d4ebff;}#sk-container-id-5 div.sk-serial::before {content: \"\";position: absolute;border-left: 1px solid gray;box-sizing: border-box;top: 0;bottom: 0;left: 50%;z-index: 0;}#sk-container-id-5 div.sk-serial {display: flex;flex-direction: column;align-items: center;background-color: white;padding-right: 0.2em;padding-left: 0.2em;position: relative;}#sk-container-id-5 div.sk-item {position: relative;z-index: 1;}#sk-container-id-5 div.sk-parallel {display: flex;align-items: stretch;justify-content: center;background-color: white;position: relative;}#sk-container-id-5 div.sk-item::before, #sk-container-id-5 div.sk-parallel-item::before {content: \"\";position: absolute;border-left: 1px solid gray;box-sizing: border-box;top: 0;bottom: 0;left: 50%;z-index: -1;}#sk-container-id-5 div.sk-parallel-item {display: flex;flex-direction: column;z-index: 1;position: relative;background-color: white;}#sk-container-id-5 div.sk-parallel-item:first-child::after {align-self: flex-end;width: 50%;}#sk-container-id-5 div.sk-parallel-item:last-child::after {align-self: flex-start;width: 50%;}#sk-container-id-5 div.sk-parallel-item:only-child::after {width: 0;}#sk-container-id-5 div.sk-dashed-wrapped {border: 1px dashed gray;margin: 0 0.4em 0.5em 0.4em;box-sizing: border-box;padding-bottom: 0.4em;background-color: white;}#sk-container-id-5 div.sk-label label {font-family: monospace;font-weight: bold;display: inline-block;line-height: 1.2em;}#sk-container-id-5 div.sk-label-container {text-align: center;}#sk-container-id-5 div.sk-container {/* jupyter's `normalize.less` sets `[hidden] { display: none; }` but bootstrap.min.css set `[hidden] { display: none !important; }` so we also need the `!important` here to be able to override the default hidden behavior on the sphinx rendered scikit-learn.org. See: https://github.com/scikit-learn/scikit-learn/issues/21755 */display: inline-block !important;position: relative;}#sk-container-id-5 div.sk-text-repr-fallback {display: none;}</style><div id=\"sk-container-id-5\" class=\"sk-top-container\"><div class=\"sk-text-repr-fallback\"><pre>LinearRegression()</pre><b>In a Jupyter environment, please rerun this cell to show the HTML representation or trust the notebook. <br />On GitHub, the HTML representation is unable to render, please try loading this page with nbviewer.org.</b></div><div class=\"sk-container\" hidden><div class=\"sk-item\"><div class=\"sk-estimator sk-toggleable\"><input class=\"sk-toggleable__control sk-hidden--visually\" id=\"sk-estimator-id-5\" type=\"checkbox\" checked><label for=\"sk-estimator-id-5\" class=\"sk-toggleable__label sk-toggleable__label-arrow\">LinearRegression</label><div class=\"sk-toggleable__content\"><pre>LinearRegression()</pre></div></div></div></div></div>"
      ],
      "text/plain": [
       "LinearRegression()"
      ]
     },
     "execution_count": 39,
     "metadata": {},
     "output_type": "execute_result"
    }
   ],
   "source": [
    "from sklearn.linear_model import LinearRegression\n",
    "lr = LinearRegression()\n",
    "lr.fit(xtrain, ytrain)"
   ]
  },
  {
   "cell_type": "code",
   "execution_count": 50,
   "metadata": {
    "id": "JQ2_eVBLCc0m"
   },
   "outputs": [],
   "source": [
    "ypredc = lr.predict(xtest)"
   ]
  },
  {
   "cell_type": "code",
   "execution_count": 51,
   "metadata": {
    "colab": {
     "base_uri": "https://localhost:8080/"
    },
    "id": "L4cY3YPaCiPz",
    "outputId": "b1f3fb78-a956-408b-c655-e2e43003a2f3"
   },
   "outputs": [
    {
     "data": {
      "text/plain": [
       "0.2988229918724554"
      ]
     },
     "execution_count": 51,
     "metadata": {},
     "output_type": "execute_result"
    }
   ],
   "source": [
    "r2_score(ytest,ypredc)"
   ]
  },
  {
   "cell_type": "code",
   "execution_count": 65,
   "metadata": {},
   "outputs": [],
   "source": [
    "#Combining models for hybrid - 60% weightage given for ANN, rest given for SVR and LinearRegression\n",
    "def pred(val):\n",
    "    pred1 = model.predict(val)\n",
    "    pred2 = regressor.predict(val)\n",
    "    pred3 = lr.predict(val)\n",
    "    ret = []\n",
    "    for i in range(len(pred1)):\n",
    "        ret.append((pred1[i]*0.6 + pred2[i]*0.2 + pred3[i]*0.2))\n",
    "    return ret"
   ]
  },
  {
   "cell_type": "code",
   "execution_count": 66,
   "metadata": {},
   "outputs": [],
   "source": [
    "df4 = df3.copy()"
   ]
  },
  {
   "cell_type": "code",
   "execution_count": 67,
   "metadata": {},
   "outputs": [
    {
     "name": "stdout",
     "output_type": "stream",
     "text": [
      "1/1 [==============================] - 0s 77ms/step\n"
     ]
    }
   ],
   "source": [
    "df4['Predicted'] = pred(df2)"
   ]
  },
  {
   "cell_type": "code",
   "execution_count": 68,
   "metadata": {},
   "outputs": [
    {
     "data": {
      "text/html": [
       "<div>\n",
       "<style scoped>\n",
       "    .dataframe tbody tr th:only-of-type {\n",
       "        vertical-align: middle;\n",
       "    }\n",
       "\n",
       "    .dataframe tbody tr th {\n",
       "        vertical-align: top;\n",
       "    }\n",
       "\n",
       "    .dataframe thead th {\n",
       "        text-align: right;\n",
       "    }\n",
       "</style>\n",
       "<table border=\"1\" class=\"dataframe\">\n",
       "  <thead>\n",
       "    <tr style=\"text-align: right;\">\n",
       "      <th></th>\n",
       "      <th>Temp</th>\n",
       "      <th>Humidity</th>\n",
       "      <th>WindSpeed</th>\n",
       "      <th>WindDirection</th>\n",
       "      <th>AirPressure</th>\n",
       "      <th>State</th>\n",
       "      <th>Year</th>\n",
       "      <th>Month</th>\n",
       "      <th>Day</th>\n",
       "      <th>Hour</th>\n",
       "      <th>Predicted</th>\n",
       "      <th>Actual</th>\n",
       "    </tr>\n",
       "  </thead>\n",
       "  <tbody>\n",
       "    <tr>\n",
       "      <th>0</th>\n",
       "      <td>30.71</td>\n",
       "      <td>36.15</td>\n",
       "      <td>2.83</td>\n",
       "      <td>55</td>\n",
       "      <td>95423</td>\n",
       "      <td>andhra pradesh</td>\n",
       "      <td>2015</td>\n",
       "      <td>11</td>\n",
       "      <td>12</td>\n",
       "      <td>9</td>\n",
       "      <td>[561.4588]</td>\n",
       "      <td>659.00</td>\n",
       "    </tr>\n",
       "    <tr>\n",
       "      <th>1</th>\n",
       "      <td>19.78</td>\n",
       "      <td>47.65</td>\n",
       "      <td>1.17</td>\n",
       "      <td>158</td>\n",
       "      <td>90845</td>\n",
       "      <td>arunachal pradesh</td>\n",
       "      <td>2015</td>\n",
       "      <td>1</td>\n",
       "      <td>21</td>\n",
       "      <td>7</td>\n",
       "      <td>[559.0509]</td>\n",
       "      <td>515.00</td>\n",
       "    </tr>\n",
       "    <tr>\n",
       "      <th>2</th>\n",
       "      <td>27.78</td>\n",
       "      <td>75.60</td>\n",
       "      <td>0.55</td>\n",
       "      <td>280</td>\n",
       "      <td>91791</td>\n",
       "      <td>assam</td>\n",
       "      <td>2015</td>\n",
       "      <td>5</td>\n",
       "      <td>11</td>\n",
       "      <td>6</td>\n",
       "      <td>[639.6577]</td>\n",
       "      <td>395.00</td>\n",
       "    </tr>\n",
       "    <tr>\n",
       "      <th>3</th>\n",
       "      <td>22.59</td>\n",
       "      <td>51.20</td>\n",
       "      <td>0.48</td>\n",
       "      <td>260</td>\n",
       "      <td>100999</td>\n",
       "      <td>bihar</td>\n",
       "      <td>2015</td>\n",
       "      <td>1</td>\n",
       "      <td>6</td>\n",
       "      <td>11</td>\n",
       "      <td>[231.385]</td>\n",
       "      <td>102.00</td>\n",
       "    </tr>\n",
       "    <tr>\n",
       "      <th>4</th>\n",
       "      <td>28.21</td>\n",
       "      <td>48.60</td>\n",
       "      <td>2.62</td>\n",
       "      <td>59</td>\n",
       "      <td>98252</td>\n",
       "      <td>chhattisgarh</td>\n",
       "      <td>2015</td>\n",
       "      <td>11</td>\n",
       "      <td>10</td>\n",
       "      <td>5</td>\n",
       "      <td>[577.97296]</td>\n",
       "      <td>843.00</td>\n",
       "    </tr>\n",
       "    <tr>\n",
       "      <th>5</th>\n",
       "      <td>10.79</td>\n",
       "      <td>92.50</td>\n",
       "      <td>1.59</td>\n",
       "      <td>305</td>\n",
       "      <td>98969</td>\n",
       "      <td>delhi</td>\n",
       "      <td>2015</td>\n",
       "      <td>3</td>\n",
       "      <td>12</td>\n",
       "      <td>2</td>\n",
       "      <td>[132.40822]</td>\n",
       "      <td>333.00</td>\n",
       "    </tr>\n",
       "    <tr>\n",
       "      <th>6</th>\n",
       "      <td>28.29</td>\n",
       "      <td>45.20</td>\n",
       "      <td>0.76</td>\n",
       "      <td>343</td>\n",
       "      <td>100251</td>\n",
       "      <td>goa</td>\n",
       "      <td>2015</td>\n",
       "      <td>1</td>\n",
       "      <td>8</td>\n",
       "      <td>5</td>\n",
       "      <td>[682.2949]</td>\n",
       "      <td>620.00</td>\n",
       "    </tr>\n",
       "    <tr>\n",
       "      <th>7</th>\n",
       "      <td>29.47</td>\n",
       "      <td>22.95</td>\n",
       "      <td>2.90</td>\n",
       "      <td>60</td>\n",
       "      <td>100685</td>\n",
       "      <td>gujarat</td>\n",
       "      <td>2015</td>\n",
       "      <td>2</td>\n",
       "      <td>4</td>\n",
       "      <td>9</td>\n",
       "      <td>[620.8058]</td>\n",
       "      <td>242.00</td>\n",
       "    </tr>\n",
       "    <tr>\n",
       "      <th>8</th>\n",
       "      <td>19.54</td>\n",
       "      <td>87.60</td>\n",
       "      <td>1.52</td>\n",
       "      <td>113</td>\n",
       "      <td>98861</td>\n",
       "      <td>haryana</td>\n",
       "      <td>2015</td>\n",
       "      <td>4</td>\n",
       "      <td>13</td>\n",
       "      <td>1</td>\n",
       "      <td>[156.30273]</td>\n",
       "      <td>16.00</td>\n",
       "    </tr>\n",
       "    <tr>\n",
       "      <th>9</th>\n",
       "      <td>16.18</td>\n",
       "      <td>43.00</td>\n",
       "      <td>1.10</td>\n",
       "      <td>252</td>\n",
       "      <td>78671</td>\n",
       "      <td>himachal pradesh</td>\n",
       "      <td>2015</td>\n",
       "      <td>5</td>\n",
       "      <td>10</td>\n",
       "      <td>9</td>\n",
       "      <td>[683.34094]</td>\n",
       "      <td>1081.00</td>\n",
       "    </tr>\n",
       "    <tr>\n",
       "      <th>10</th>\n",
       "      <td>29.63</td>\n",
       "      <td>66.80</td>\n",
       "      <td>2.76</td>\n",
       "      <td>282</td>\n",
       "      <td>95207</td>\n",
       "      <td>jharkhand</td>\n",
       "      <td>2015</td>\n",
       "      <td>8</td>\n",
       "      <td>7</td>\n",
       "      <td>7</td>\n",
       "      <td>[598.78625]</td>\n",
       "      <td>98.00</td>\n",
       "    </tr>\n",
       "    <tr>\n",
       "      <th>11</th>\n",
       "      <td>23.45</td>\n",
       "      <td>50.75</td>\n",
       "      <td>3.45</td>\n",
       "      <td>109</td>\n",
       "      <td>95366</td>\n",
       "      <td>karnataka</td>\n",
       "      <td>2016</td>\n",
       "      <td>1</td>\n",
       "      <td>8</td>\n",
       "      <td>4</td>\n",
       "      <td>[447.59683]</td>\n",
       "      <td>443.00</td>\n",
       "    </tr>\n",
       "    <tr>\n",
       "      <th>12</th>\n",
       "      <td>24.79</td>\n",
       "      <td>65.40</td>\n",
       "      <td>1.31</td>\n",
       "      <td>57</td>\n",
       "      <td>99657</td>\n",
       "      <td>kerala</td>\n",
       "      <td>2016</td>\n",
       "      <td>2</td>\n",
       "      <td>17</td>\n",
       "      <td>3</td>\n",
       "      <td>[380.7961]</td>\n",
       "      <td>240.00</td>\n",
       "    </tr>\n",
       "    <tr>\n",
       "      <th>13</th>\n",
       "      <td>33.69</td>\n",
       "      <td>41.70</td>\n",
       "      <td>1.79</td>\n",
       "      <td>251</td>\n",
       "      <td>96349</td>\n",
       "      <td>madhya pradesh</td>\n",
       "      <td>2011</td>\n",
       "      <td>6</td>\n",
       "      <td>4</td>\n",
       "      <td>4</td>\n",
       "      <td>[569.5511]</td>\n",
       "      <td>950.00</td>\n",
       "    </tr>\n",
       "    <tr>\n",
       "      <th>14</th>\n",
       "      <td>27.16</td>\n",
       "      <td>28.00</td>\n",
       "      <td>2.34</td>\n",
       "      <td>116</td>\n",
       "      <td>94484</td>\n",
       "      <td>maharashtra</td>\n",
       "      <td>2015</td>\n",
       "      <td>2</td>\n",
       "      <td>5</td>\n",
       "      <td>6</td>\n",
       "      <td>[688.2933]</td>\n",
       "      <td>831.00</td>\n",
       "    </tr>\n",
       "    <tr>\n",
       "      <th>15</th>\n",
       "      <td>22.02</td>\n",
       "      <td>81.90</td>\n",
       "      <td>0.62</td>\n",
       "      <td>97</td>\n",
       "      <td>92853</td>\n",
       "      <td>manipur</td>\n",
       "      <td>2015</td>\n",
       "      <td>10</td>\n",
       "      <td>16</td>\n",
       "      <td>3</td>\n",
       "      <td>[377.7514]</td>\n",
       "      <td>709.00</td>\n",
       "    </tr>\n",
       "    <tr>\n",
       "      <th>16</th>\n",
       "      <td>10.05</td>\n",
       "      <td>57.95</td>\n",
       "      <td>0.76</td>\n",
       "      <td>80</td>\n",
       "      <td>84779</td>\n",
       "      <td>meghalaya</td>\n",
       "      <td>2015</td>\n",
       "      <td>1</td>\n",
       "      <td>22</td>\n",
       "      <td>2</td>\n",
       "      <td>[353.63458]</td>\n",
       "      <td>170.00</td>\n",
       "    </tr>\n",
       "    <tr>\n",
       "      <th>17</th>\n",
       "      <td>25.38</td>\n",
       "      <td>63.00</td>\n",
       "      <td>0.90</td>\n",
       "      <td>274</td>\n",
       "      <td>92553</td>\n",
       "      <td>mizoram</td>\n",
       "      <td>2015</td>\n",
       "      <td>10</td>\n",
       "      <td>18</td>\n",
       "      <td>6</td>\n",
       "      <td>[636.1606]</td>\n",
       "      <td>859.00</td>\n",
       "    </tr>\n",
       "    <tr>\n",
       "      <th>18</th>\n",
       "      <td>22.53</td>\n",
       "      <td>77.80</td>\n",
       "      <td>1.72</td>\n",
       "      <td>241</td>\n",
       "      <td>81408</td>\n",
       "      <td>nagaland</td>\n",
       "      <td>2015</td>\n",
       "      <td>8</td>\n",
       "      <td>11</td>\n",
       "      <td>5</td>\n",
       "      <td>[649.1647]</td>\n",
       "      <td>192.00</td>\n",
       "    </tr>\n",
       "    <tr>\n",
       "      <th>19</th>\n",
       "      <td>33.77</td>\n",
       "      <td>52.25</td>\n",
       "      <td>1.79</td>\n",
       "      <td>152</td>\n",
       "      <td>95655</td>\n",
       "      <td>orissa</td>\n",
       "      <td>2015</td>\n",
       "      <td>5</td>\n",
       "      <td>18</td>\n",
       "      <td>11</td>\n",
       "      <td>[382.48706]</td>\n",
       "      <td>366.00</td>\n",
       "    </tr>\n",
       "    <tr>\n",
       "      <th>20</th>\n",
       "      <td>18.00</td>\n",
       "      <td>60.40</td>\n",
       "      <td>1.66</td>\n",
       "      <td>96</td>\n",
       "      <td>98809</td>\n",
       "      <td>punjab</td>\n",
       "      <td>2015</td>\n",
       "      <td>2</td>\n",
       "      <td>1</td>\n",
       "      <td>12</td>\n",
       "      <td>[90.52346]</td>\n",
       "      <td>266.00</td>\n",
       "    </tr>\n",
       "    <tr>\n",
       "      <th>21</th>\n",
       "      <td>23.98</td>\n",
       "      <td>37.30</td>\n",
       "      <td>2.69</td>\n",
       "      <td>15</td>\n",
       "      <td>97650</td>\n",
       "      <td>rajasthan</td>\n",
       "      <td>2015</td>\n",
       "      <td>12</td>\n",
       "      <td>2</td>\n",
       "      <td>6</td>\n",
       "      <td>[576.9162]</td>\n",
       "      <td>543.00</td>\n",
       "    </tr>\n",
       "    <tr>\n",
       "      <th>22</th>\n",
       "      <td>15.25</td>\n",
       "      <td>90.30</td>\n",
       "      <td>0.76</td>\n",
       "      <td>178</td>\n",
       "      <td>80454</td>\n",
       "      <td>sikkim</td>\n",
       "      <td>2015</td>\n",
       "      <td>10</td>\n",
       "      <td>4</td>\n",
       "      <td>10</td>\n",
       "      <td>[242.89941]</td>\n",
       "      <td>212.95</td>\n",
       "    </tr>\n",
       "    <tr>\n",
       "      <th>23</th>\n",
       "      <td>20.37</td>\n",
       "      <td>88.25</td>\n",
       "      <td>4.41</td>\n",
       "      <td>247</td>\n",
       "      <td>99717</td>\n",
       "      <td>tamil nadu</td>\n",
       "      <td>2015</td>\n",
       "      <td>11</td>\n",
       "      <td>10</td>\n",
       "      <td>5</td>\n",
       "      <td>[340.98685]</td>\n",
       "      <td>577.00</td>\n",
       "    </tr>\n",
       "    <tr>\n",
       "      <th>24</th>\n",
       "      <td>28.35</td>\n",
       "      <td>73.75</td>\n",
       "      <td>0.83</td>\n",
       "      <td>298</td>\n",
       "      <td>99688</td>\n",
       "      <td>tripura</td>\n",
       "      <td>2015</td>\n",
       "      <td>10</td>\n",
       "      <td>18</td>\n",
       "      <td>10</td>\n",
       "      <td>[320.60272]</td>\n",
       "      <td>291.00</td>\n",
       "    </tr>\n",
       "    <tr>\n",
       "      <th>25</th>\n",
       "      <td>33.75</td>\n",
       "      <td>39.45</td>\n",
       "      <td>4.21</td>\n",
       "      <td>291</td>\n",
       "      <td>98872</td>\n",
       "      <td>uttar pradesh</td>\n",
       "      <td>2015</td>\n",
       "      <td>10</td>\n",
       "      <td>9</td>\n",
       "      <td>7</td>\n",
       "      <td>[713.88196]</td>\n",
       "      <td>845.00</td>\n",
       "    </tr>\n",
       "    <tr>\n",
       "      <th>26</th>\n",
       "      <td>18.64</td>\n",
       "      <td>47.35</td>\n",
       "      <td>1.45</td>\n",
       "      <td>232</td>\n",
       "      <td>96292</td>\n",
       "      <td>uttrakhand</td>\n",
       "      <td>2015</td>\n",
       "      <td>1</td>\n",
       "      <td>1</td>\n",
       "      <td>9</td>\n",
       "      <td>[435.6342]</td>\n",
       "      <td>324.00</td>\n",
       "    </tr>\n",
       "    <tr>\n",
       "      <th>27</th>\n",
       "      <td>28.32</td>\n",
       "      <td>22.75</td>\n",
       "      <td>2.41</td>\n",
       "      <td>355</td>\n",
       "      <td>101509</td>\n",
       "      <td>west bengal</td>\n",
       "      <td>2015</td>\n",
       "      <td>3</td>\n",
       "      <td>12</td>\n",
       "      <td>4</td>\n",
       "      <td>[681.24603]</td>\n",
       "      <td>670.00</td>\n",
       "    </tr>\n",
       "  </tbody>\n",
       "</table>\n",
       "</div>"
      ],
      "text/plain": [
       "     Temp  Humidity  WindSpeed  WindDirection  AirPressure              State  \\\n",
       "0   30.71     36.15       2.83             55        95423     andhra pradesh   \n",
       "1   19.78     47.65       1.17            158        90845  arunachal pradesh   \n",
       "2   27.78     75.60       0.55            280        91791              assam   \n",
       "3   22.59     51.20       0.48            260       100999              bihar   \n",
       "4   28.21     48.60       2.62             59        98252       chhattisgarh   \n",
       "5   10.79     92.50       1.59            305        98969              delhi   \n",
       "6   28.29     45.20       0.76            343       100251                goa   \n",
       "7   29.47     22.95       2.90             60       100685            gujarat   \n",
       "8   19.54     87.60       1.52            113        98861            haryana   \n",
       "9   16.18     43.00       1.10            252        78671   himachal pradesh   \n",
       "10  29.63     66.80       2.76            282        95207          jharkhand   \n",
       "11  23.45     50.75       3.45            109        95366          karnataka   \n",
       "12  24.79     65.40       1.31             57        99657             kerala   \n",
       "13  33.69     41.70       1.79            251        96349     madhya pradesh   \n",
       "14  27.16     28.00       2.34            116        94484        maharashtra   \n",
       "15  22.02     81.90       0.62             97        92853            manipur   \n",
       "16  10.05     57.95       0.76             80        84779          meghalaya   \n",
       "17  25.38     63.00       0.90            274        92553            mizoram   \n",
       "18  22.53     77.80       1.72            241        81408           nagaland   \n",
       "19  33.77     52.25       1.79            152        95655             orissa   \n",
       "20  18.00     60.40       1.66             96        98809             punjab   \n",
       "21  23.98     37.30       2.69             15        97650          rajasthan   \n",
       "22  15.25     90.30       0.76            178        80454             sikkim   \n",
       "23  20.37     88.25       4.41            247        99717         tamil nadu   \n",
       "24  28.35     73.75       0.83            298        99688            tripura   \n",
       "25  33.75     39.45       4.21            291        98872      uttar pradesh   \n",
       "26  18.64     47.35       1.45            232        96292         uttrakhand   \n",
       "27  28.32     22.75       2.41            355       101509        west bengal   \n",
       "\n",
       "    Year  Month  Day  Hour    Predicted   Actual  \n",
       "0   2015     11   12     9   [561.4588]   659.00  \n",
       "1   2015      1   21     7   [559.0509]   515.00  \n",
       "2   2015      5   11     6   [639.6577]   395.00  \n",
       "3   2015      1    6    11    [231.385]   102.00  \n",
       "4   2015     11   10     5  [577.97296]   843.00  \n",
       "5   2015      3   12     2  [132.40822]   333.00  \n",
       "6   2015      1    8     5   [682.2949]   620.00  \n",
       "7   2015      2    4     9   [620.8058]   242.00  \n",
       "8   2015      4   13     1  [156.30273]    16.00  \n",
       "9   2015      5   10     9  [683.34094]  1081.00  \n",
       "10  2015      8    7     7  [598.78625]    98.00  \n",
       "11  2016      1    8     4  [447.59683]   443.00  \n",
       "12  2016      2   17     3   [380.7961]   240.00  \n",
       "13  2011      6    4     4   [569.5511]   950.00  \n",
       "14  2015      2    5     6   [688.2933]   831.00  \n",
       "15  2015     10   16     3   [377.7514]   709.00  \n",
       "16  2015      1   22     2  [353.63458]   170.00  \n",
       "17  2015     10   18     6   [636.1606]   859.00  \n",
       "18  2015      8   11     5   [649.1647]   192.00  \n",
       "19  2015      5   18    11  [382.48706]   366.00  \n",
       "20  2015      2    1    12   [90.52346]   266.00  \n",
       "21  2015     12    2     6   [576.9162]   543.00  \n",
       "22  2015     10    4    10  [242.89941]   212.95  \n",
       "23  2015     11   10     5  [340.98685]   577.00  \n",
       "24  2015     10   18    10  [320.60272]   291.00  \n",
       "25  2015     10    9     7  [713.88196]   845.00  \n",
       "26  2015      1    1     9   [435.6342]   324.00  \n",
       "27  2015      3   12     4  [681.24603]   670.00  "
      ]
     },
     "execution_count": 68,
     "metadata": {},
     "output_type": "execute_result"
    }
   ],
   "source": [
    "df4 #Sample predictions for hybrid model"
   ]
  },
  {
   "cell_type": "code",
   "execution_count": 69,
   "metadata": {},
   "outputs": [
    {
     "name": "stdout",
     "output_type": "stream",
     "text": [
      "35/35 [==============================] - 0s 2ms/step\n"
     ]
    }
   ],
   "source": [
    "y_predhybrid = pred(xtest)"
   ]
  },
  {
   "cell_type": "code",
   "execution_count": 70,
   "metadata": {},
   "outputs": [
    {
     "data": {
      "text/plain": [
       "0.708107094433251"
      ]
     },
     "execution_count": 70,
     "metadata": {},
     "output_type": "execute_result"
    }
   ],
   "source": [
    "r2_score(ytest,y_predhybrid) #R2 score for hybrid model"
   ]
  },
  {
   "cell_type": "code",
   "execution_count": 40,
   "metadata": {},
   "outputs": [],
   "source": [
    "#Combining models for hybrid - SVR, LR, XGBRegressor\n",
    "def predml(val):\n",
    "    pred1 = xgbmodel.predict(val)\n",
    "    pred2 = regressor.predict(val)\n",
    "    pred3 = lr.predict(val)\n",
    "    ret = []\n",
    "    for i in range(len(pred1)):\n",
    "        ret.append((pred1[i]*0.6 + pred2[i]*0.2 + pred3[i]*0.2))\n",
    "    return ret"
   ]
  },
  {
   "cell_type": "code",
   "execution_count": 41,
   "metadata": {},
   "outputs": [],
   "source": [
    "y_predhybridml = predml(xtest)"
   ]
  },
  {
   "cell_type": "code",
   "execution_count": 42,
   "metadata": {},
   "outputs": [
    {
     "data": {
      "text/plain": [
       "0.786511589159407"
      ]
     },
     "execution_count": 42,
     "metadata": {},
     "output_type": "execute_result"
    }
   ],
   "source": [
    "r2_score(ytest,y_predhybridml)"
   ]
  }
 ],
 "metadata": {
  "colab": {
   "provenance": []
  },
  "kernelspec": {
   "display_name": "Python 3 (ipykernel)",
   "language": "python",
   "name": "python3"
  },
  "language_info": {
   "codemirror_mode": {
    "name": "ipython",
    "version": 3
   },
   "file_extension": ".py",
   "mimetype": "text/x-python",
   "name": "python",
   "nbconvert_exporter": "python",
   "pygments_lexer": "ipython3",
   "version": "3.10.9"
  }
 },
 "nbformat": 4,
 "nbformat_minor": 1
}
